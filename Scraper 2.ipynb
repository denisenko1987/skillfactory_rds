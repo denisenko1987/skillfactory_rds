{
 "cells": [
  {
   "cell_type": "code",
   "execution_count": 1,
   "metadata": {},
   "outputs": [],
   "source": [
    "import requests      # Библиотека для отправки запросов\n",
    "import numpy as np   # Библиотека для матриц, векторов и линала\n",
    "import pandas as pd  # Библиотека для табличек\n",
    "import time          # Библиотека для тайм-менеджмента"
   ]
  },
  {
   "cell_type": "code",
   "execution_count": 2,
   "metadata": {},
   "outputs": [
    {
     "data": {
      "text/plain": [
       "<Response [200]>"
      ]
     },
     "execution_count": 2,
     "metadata": {},
     "output_type": "execute_result"
    }
   ],
   "source": [
    "page_link = 'https://auto.ru/htmlsitemap/mark_model_catalog.html'\n",
    "response = requests.get(page_link)\n",
    "response"
   ]
  },
  {
   "cell_type": "code",
   "execution_count": 3,
   "metadata": {},
   "outputs": [],
   "source": [
    "from bs4 import BeautifulSoup"
   ]
  },
  {
   "cell_type": "code",
   "execution_count": 4,
   "metadata": {},
   "outputs": [],
   "source": [
    "page = BeautifulSoup(response.text, 'html.parser')"
   ]
  },
  {
   "cell_type": "code",
   "execution_count": 5,
   "metadata": {},
   "outputs": [],
   "source": [
    "body = page.find('body')\n",
    "links = body.find_all('a')"
   ]
  },
  {
   "cell_type": "code",
   "execution_count": 6,
   "metadata": {},
   "outputs": [],
   "source": [
    "# Сделаем словарь с марками и моделями\n",
    "dict_models = {}\n",
    "for link in links:\n",
    "    transit_link = str(link)[23:]\n",
    "    a = transit_link.split('/')[0].upper()\n",
    "    b = transit_link.split('/')[1].upper()\n",
    "    if a not in dict_models:\n",
    "        dict_models[a] = list()\n",
    "        dict_models[a].append(b)\n",
    "    else:\n",
    "        dict_models[a].append(b)"
   ]
  },
  {
   "cell_type": "code",
   "execution_count": 7,
   "metadata": {},
   "outputs": [],
   "source": [
    "url2 = 'https://auto.ru/-/ajax/desktop/listing/'"
   ]
  },
  {
   "cell_type": "code",
   "execution_count": 10,
   "metadata": {},
   "outputs": [],
   "source": [
    "# Создадим нужные заголовки\n",
    "\n",
    "headers = '''Host: auto.ru\n",
    "User-Agent: Mozilla/5.0 (Macintosh; Intel Mac OS X 10.15; rv:70.0) Gecko/20100101 Firefox/70.0\n",
    "Accept: */*\n",
    "Accept-Language: ru-RU,ru;q=0.8,en-US;q=0.5,en;q=0.3\n",
    "Accept-Encoding: gzip, deflate, br\n",
    "Referer: https://auto.ru/moskovskaya_oblast/cars/bmw/all/?output_type=list&page=1\n",
    "x-client-app-version: 202009.04.110236\n",
    "x-page-request-id: fdd6d0439fd6f805b8eb938aa1932376\n",
    "x-client-date: 1599322600985\n",
    "x-csrf-token: b1760c60ed4211e7e2a539ec2e2eaa86aa3e12066babbf49\n",
    "x-requested-with: fetch\n",
    "content-type: application/json\n",
    "Origin: https://auto.ru\n",
    "Content-Length: 112\n",
    "Connection: keep-alive\n",
    "Cookie: _csrf_token=b1760c60ed4211e7e2a539ec2e2eaa86aa3e12066babbf49; autoru_sid=a%3Ag5f51592f2m4ft261v92m47l42fs0c7f.de76e405f5554e6d59b99384cd04e1d0%7C1599166767985.604800.RClj_5rN_y7tYFld07jmoQ.gMkwnzEOGWAvc1qw8NJ8rhX3ifhAvdaLk1bxXKQKQec; autoruuid=g5f51592f2m4ft261v92m47l42fs0c7f.de76e405f5554e6d59b99384cd04e1d0; suid=e651fbd98685f6ec861083438281ce92.427a97addf23552d28e6a2ee6a04ca95; from_lifetime=1599322595978; from=direct; yuidcs=1; yuidlt=1; yandexuid=3884693151599166753; _ym_uid=1599166835569900547; _ym_d=1599322595; crookie=XeaqmOjjUO8l0uvySu5+M6Bc/7Q1wnlPxOLgIYrx+K5Lg86ZYvW00dLbh7SOsL4VsJ6GPVLb0Dew8x98+wmGZFUAURk=; cmtchd=MTU5OTE2NjgzNjY2Mw==; gids=1; cycada=SYL8uQd6uQghoUM9ZZpn1WY440Mwhf1aRme/LWLbdMc=; X-Vertis-DC=myt; _ym_visorc_22753222=b; _ym_isad=2; _ym_visorc_526680=w; _ym_visorc_148422=w; _ym_visorc_22596877=b; _ym_visorc_148383=w'''.strip().split('\\n')\n",
    "\n",
    "dict_heared = {}\n",
    "\n",
    "for header in headers:\n",
    "    key, value = header.split(': ')\n",
    "    dict_heared[key] = value"
   ]
  },
  {
   "cell_type": "code",
   "execution_count": null,
   "metadata": {},
   "outputs": [],
   "source": [
    "# Спарсим все объявления по БМВ\n",
    "\n",
    "url = 'https://auto.ru/-/ajax/desktop/listing/'\n",
    "bmw_offers = []\n",
    "for model in dict_models['BMW']:\n",
    "    params = {\n",
    "        \"category\":\"cars\",\n",
    "        \"section\":\"all\",\n",
    "        \"catalog_filter\":[{\"mark\":'BMW',\"model\":model}],\n",
    "        \"page\":1,\n",
    "        \"geo_id\":[1]}\n",
    "    response = requests.post(url, json=params, headers = dict_heared)\n",
    "    data = response.json()\n",
    "    i = data['pagination']['total_page_count']\n",
    "    for x in range(1,i+1):\n",
    "        params = {\n",
    "            \"category\":\"cars\",\n",
    "            \"section\":\"all\",\n",
    "            \"catalog_filter\":[{\"mark\":'BMW',\"model\":model}],\n",
    "            \"page\":x,\n",
    "            \"geo_id\":[1]}\n",
    "        response = requests.post(url, json=params, headers = dict_heared)\n",
    "        data = response.json()\n",
    "        bmw_offers.extend(data['offers'])"
   ]
  },
  {
   "cell_type": "code",
   "execution_count": null,
   "metadata": {},
   "outputs": [],
   "source": [
    "bmw_data = pd.DataFrame(offers)\n",
    "\n",
    "bmw_data.to_csv('bmw_data.csv')"
   ]
  },
  {
   "cell_type": "code",
   "execution_count": null,
   "metadata": {},
   "outputs": [],
   "source": [
    "bmw_data"
   ]
  },
  {
   "cell_type": "code",
   "execution_count": null,
   "metadata": {},
   "outputs": [],
   "source": [
    "# Запилим словарик покороче\n",
    "pop_car = ['AUDI','MERCEDES','VOLKSWAGEN','VOLVO']\n",
    "\n",
    "pop_car_dict = {}\n",
    "for i in pop_car:\n",
    "    pop_car_dict[i] = dict_models[i]"
   ]
  },
  {
   "cell_type": "code",
   "execution_count": null,
   "metadata": {},
   "outputs": [],
   "source": [
    "# # А теперь пройдемся по несколькии маркам\n",
    "\n",
    "# url = 'https://auto.ru/-/ajax/desktop/listing/'\n",
    "# all_offers = []\n",
    "# for mark in list(pop_car_dict.keys()):\n",
    "#     for model in pop_car_dict[mark]:\n",
    "#         params = {\n",
    "#             \"category\":\"cars\",\n",
    "#             \"section\":\"all\",\n",
    "#             \"catalog_filter\":[{\"mark\":mark,\"model\":model}],\n",
    "#             \"page\":1,\n",
    "#             \"geo_id\":[1]}\n",
    "#         response = requests.post(url, json=params, headers = dict_heared)\n",
    "#         data = response.json()\n",
    "#         i = data['pagination']['total_page_count']\n",
    "#         for x in range(1,i+1):\n",
    "#             params = {\n",
    "#                 \"category\":\"cars\",\n",
    "#                 \"section\":\"all\",\n",
    "#                 \"catalog_filter\":[{\"mark\":mark,\"model\":model}],\n",
    "#                 \"page\":x,\n",
    "#                 \"geo_id\":[1]}\n",
    "#             response = requests.post(url, json=params, headers = dict_heared)\n",
    "#             data = response.json()\n",
    "#             all_offers.extend(data['offers'])"
   ]
  },
  {
   "cell_type": "markdown",
   "metadata": {},
   "source": [
    "почему-то такая модель не сработала.(( Значит будем запускать вручную по отдельным маркам"
   ]
  },
  {
   "cell_type": "code",
   "execution_count": 85,
   "metadata": {},
   "outputs": [],
   "source": [
    "# Спарсим все объявления по Ауди\n",
    "\n",
    "url = 'https://auto.ru/-/ajax/desktop/listing/'\n",
    "audi_offers = []\n",
    "for model in dict_models['AUDI']:\n",
    "    params = {\n",
    "        \"category\":\"cars\",\n",
    "        \"section\":\"all\",\n",
    "        \"catalog_filter\":[{\"mark\":'AUDI',\"model\":model}],\n",
    "        \"page\":1,\n",
    "        \"geo_id\":[1]}\n",
    "    response = requests.post(url, json=params, headers = dict_heared)\n",
    "    data = response.json()\n",
    "    i = data['pagination']['total_page_count']\n",
    "    for x in range(1,i+1):\n",
    "        params = {\n",
    "            \"category\":\"cars\",\n",
    "            \"section\":\"all\",\n",
    "            \"catalog_filter\":[{\"mark\":'AUDI',\"model\":model}],\n",
    "            \"page\":x,\n",
    "            \"geo_id\":[1]}\n",
    "        response = requests.post(url, json=params, headers = dict_heared)\n",
    "        data = response.json()\n",
    "        audi_offers.extend(data['offers'])\n",
    "\n",
    "audi_data = pd.DataFrame(audi_offers)\n",
    "\n",
    "audi_data.to_csv('audi_data.csv')"
   ]
  },
  {
   "cell_type": "code",
   "execution_count": 87,
   "metadata": {},
   "outputs": [],
   "source": [
    "# Спарсим все объявления по MERCEDES\n",
    "\n",
    "url = 'https://auto.ru/-/ajax/desktop/listing/'\n",
    "MERCEDES_offers = []\n",
    "for model in dict_models['MERCEDES']:\n",
    "    params = {\n",
    "        \"category\":\"cars\",\n",
    "        \"section\":\"all\",\n",
    "        \"catalog_filter\":[{\"mark\":'MERCEDES',\"model\":model}],\n",
    "        \"page\":1,\n",
    "        \"geo_id\":[1]}\n",
    "    response = requests.post(url, json=params, headers = dict_heared)\n",
    "    data = response.json()\n",
    "    i = data['pagination']['total_page_count']\n",
    "    for x in range(1,i+1):\n",
    "        params = {\n",
    "            \"category\":\"cars\",\n",
    "            \"section\":\"all\",\n",
    "            \"catalog_filter\":[{\"mark\":'MERCEDES',\"model\":model}],\n",
    "            \"page\":x,\n",
    "            \"geo_id\":[1]}\n",
    "        response = requests.post(url, json=params, headers = dict_heared)\n",
    "        data = response.json()\n",
    "        MERCEDES_offers.extend(data['offers'])\n",
    "        "
   ]
  },
  {
   "cell_type": "code",
   "execution_count": 90,
   "metadata": {},
   "outputs": [
    {
     "data": {
      "text/html": [
       "<div>\n",
       "<style scoped>\n",
       "    .dataframe tbody tr th:only-of-type {\n",
       "        vertical-align: middle;\n",
       "    }\n",
       "\n",
       "    .dataframe tbody tr th {\n",
       "        vertical-align: top;\n",
       "    }\n",
       "\n",
       "    .dataframe thead th {\n",
       "        text-align: right;\n",
       "    }\n",
       "</style>\n",
       "<table border=\"1\" class=\"dataframe\">\n",
       "  <thead>\n",
       "    <tr style=\"text-align: right;\">\n",
       "      <th></th>\n",
       "      <th>availability</th>\n",
       "      <th>category</th>\n",
       "      <th>color_hex</th>\n",
       "      <th>delivery_info</th>\n",
       "      <th>description</th>\n",
       "      <th>documents</th>\n",
       "      <th>is_favorite</th>\n",
       "      <th>old_category_id</th>\n",
       "      <th>owner_expenses</th>\n",
       "      <th>section</th>\n",
       "      <th>...</th>\n",
       "      <th>state</th>\n",
       "      <th>sub_category</th>\n",
       "      <th>vehicle_info</th>\n",
       "      <th>lk_summary</th>\n",
       "      <th>dealer_credit_config</th>\n",
       "      <th>discount_options</th>\n",
       "      <th>soldMinutes</th>\n",
       "      <th>brand_cert_info</th>\n",
       "      <th>badges</th>\n",
       "      <th>discount_price</th>\n",
       "    </tr>\n",
       "  </thead>\n",
       "  <tbody>\n",
       "    <tr>\n",
       "      <th>0</th>\n",
       "      <td>IN_STOCK</td>\n",
       "      <td>cars</td>\n",
       "      <td>FAFBFB</td>\n",
       "      <td>{}</td>\n",
       "      <td>Машина на ходу, завел поехал\\nДелал для себя. ...</td>\n",
       "      <td>{'owners_number': 2, 'custom_cleared': True, '...</td>\n",
       "      <td>False</td>\n",
       "      <td>15</td>\n",
       "      <td>{'transport_tax': {'tax_by_year': 3050, 'year'...</td>\n",
       "      <td>used</td>\n",
       "      <td>...</td>\n",
       "      <td>{'mileage': 315000, 'state_not_beaten': True, ...</td>\n",
       "      <td>cars</td>\n",
       "      <td>{'configuration': {'id': '8259494', 'body_type...</td>\n",
       "      <td>2.0 MT (122 л.с.), седан, задний, бензин</td>\n",
       "      <td>NaN</td>\n",
       "      <td>NaN</td>\n",
       "      <td>NaN</td>\n",
       "      <td>NaN</td>\n",
       "      <td>NaN</td>\n",
       "      <td>NaN</td>\n",
       "    </tr>\n",
       "    <tr>\n",
       "      <th>1</th>\n",
       "      <td>IN_STOCK</td>\n",
       "      <td>cars</td>\n",
       "      <td>040001</td>\n",
       "      <td>{}</td>\n",
       "      <td>Продоется мерседес 190E куплен в германии, гар...</td>\n",
       "      <td>{'owners_number': 1, 'pts_original': True, 'cu...</td>\n",
       "      <td>False</td>\n",
       "      <td>15</td>\n",
       "      <td>{'transport_tax': {'tax_by_year': 3706, 'year'...</td>\n",
       "      <td>used</td>\n",
       "      <td>...</td>\n",
       "      <td>{'mileage': 27000, 'state_not_beaten': True, '...</td>\n",
       "      <td>cars</td>\n",
       "      <td>{'configuration': {'id': '8259494', 'body_type...</td>\n",
       "      <td>1.8 MT (109 л.с.), седан, задний, бензин</td>\n",
       "      <td>NaN</td>\n",
       "      <td>NaN</td>\n",
       "      <td>NaN</td>\n",
       "      <td>NaN</td>\n",
       "      <td>NaN</td>\n",
       "      <td>NaN</td>\n",
       "    </tr>\n",
       "    <tr>\n",
       "      <th>2</th>\n",
       "      <td>IN_STOCK</td>\n",
       "      <td>cars</td>\n",
       "      <td>040001</td>\n",
       "      <td>{}</td>\n",
       "      <td>Продаю своего любимца, очень интересная истори...</td>\n",
       "      <td>{'owners_number': 1, 'custom_cleared': True, '...</td>\n",
       "      <td>False</td>\n",
       "      <td>15</td>\n",
       "      <td>{'transport_tax': {'tax_by_year': 4148, 'year'...</td>\n",
       "      <td>used</td>\n",
       "      <td>...</td>\n",
       "      <td>{'mileage': 235000, 'state_not_beaten': True, ...</td>\n",
       "      <td>cars</td>\n",
       "      <td>{'configuration': {'id': '8259494', 'body_type...</td>\n",
       "      <td>2.0 MT (122 л.с.), седан, задний, бензин</td>\n",
       "      <td>NaN</td>\n",
       "      <td>NaN</td>\n",
       "      <td>NaN</td>\n",
       "      <td>NaN</td>\n",
       "      <td>NaN</td>\n",
       "      <td>NaN</td>\n",
       "    </tr>\n",
       "  </tbody>\n",
       "</table>\n",
       "<p>3 rows × 36 columns</p>\n",
       "</div>"
      ],
      "text/plain": [
       "  availability category color_hex delivery_info  \\\n",
       "0     IN_STOCK     cars    FAFBFB            {}   \n",
       "1     IN_STOCK     cars    040001            {}   \n",
       "2     IN_STOCK     cars    040001            {}   \n",
       "\n",
       "                                         description  \\\n",
       "0  Машина на ходу, завел поехал\\nДелал для себя. ...   \n",
       "1  Продоется мерседес 190E куплен в германии, гар...   \n",
       "2  Продаю своего любимца, очень интересная истори...   \n",
       "\n",
       "                                           documents  is_favorite  \\\n",
       "0  {'owners_number': 2, 'custom_cleared': True, '...        False   \n",
       "1  {'owners_number': 1, 'pts_original': True, 'cu...        False   \n",
       "2  {'owners_number': 1, 'custom_cleared': True, '...        False   \n",
       "\n",
       "   old_category_id                                     owner_expenses section  \\\n",
       "0               15  {'transport_tax': {'tax_by_year': 3050, 'year'...    used   \n",
       "1               15  {'transport_tax': {'tax_by_year': 3706, 'year'...    used   \n",
       "2               15  {'transport_tax': {'tax_by_year': 4148, 'year'...    used   \n",
       "\n",
       "   ...                                              state sub_category  \\\n",
       "0  ...  {'mileage': 315000, 'state_not_beaten': True, ...         cars   \n",
       "1  ...  {'mileage': 27000, 'state_not_beaten': True, '...         cars   \n",
       "2  ...  {'mileage': 235000, 'state_not_beaten': True, ...         cars   \n",
       "\n",
       "                                        vehicle_info  \\\n",
       "0  {'configuration': {'id': '8259494', 'body_type...   \n",
       "1  {'configuration': {'id': '8259494', 'body_type...   \n",
       "2  {'configuration': {'id': '8259494', 'body_type...   \n",
       "\n",
       "                                 lk_summary dealer_credit_config  \\\n",
       "0  2.0 MT (122 л.с.), седан, задний, бензин                  NaN   \n",
       "1  1.8 MT (109 л.с.), седан, задний, бензин                  NaN   \n",
       "2  2.0 MT (122 л.с.), седан, задний, бензин                  NaN   \n",
       "\n",
       "  discount_options soldMinutes brand_cert_info badges discount_price  \n",
       "0              NaN         NaN             NaN    NaN            NaN  \n",
       "1              NaN         NaN             NaN    NaN            NaN  \n",
       "2              NaN         NaN             NaN    NaN            NaN  \n",
       "\n",
       "[3 rows x 36 columns]"
      ]
     },
     "execution_count": 90,
     "metadata": {},
     "output_type": "execute_result"
    }
   ],
   "source": [
    "MERCEDES_data = pd.DataFrame(MERCEDES_offers)\n",
    "\n",
    "MERCEDES_data.to_csv('MERCEDES_data.csv')"
   ]
  },
  {
   "cell_type": "code",
   "execution_count": 30,
   "metadata": {},
   "outputs": [
    {
     "ename": "KeyboardInterrupt",
     "evalue": "",
     "output_type": "error",
     "traceback": [
      "\u001b[0;31m---------------------------------------------------------------------------\u001b[0m",
      "\u001b[0;31mKeyboardInterrupt\u001b[0m                         Traceback (most recent call last)",
      "\u001b[0;32m<ipython-input-30-ba69e3d8add2>\u001b[0m in \u001b[0;36m<module>\u001b[0;34m\u001b[0m\n\u001b[1;32m     20\u001b[0m             \u001b[0;34m\"page\"\u001b[0m\u001b[0;34m:\u001b[0m\u001b[0mx\u001b[0m\u001b[0;34m,\u001b[0m\u001b[0;34m\u001b[0m\u001b[0;34m\u001b[0m\u001b[0m\n\u001b[1;32m     21\u001b[0m             \"geo_id\":[1]}\n\u001b[0;32m---> 22\u001b[0;31m         \u001b[0mresponse\u001b[0m \u001b[0;34m=\u001b[0m \u001b[0mrequests\u001b[0m\u001b[0;34m.\u001b[0m\u001b[0mpost\u001b[0m\u001b[0;34m(\u001b[0m\u001b[0murl\u001b[0m\u001b[0;34m,\u001b[0m \u001b[0mjson\u001b[0m\u001b[0;34m=\u001b[0m\u001b[0mparams\u001b[0m\u001b[0;34m,\u001b[0m \u001b[0mheaders\u001b[0m \u001b[0;34m=\u001b[0m \u001b[0mdict_heared\u001b[0m\u001b[0;34m)\u001b[0m\u001b[0;34m\u001b[0m\u001b[0;34m\u001b[0m\u001b[0m\n\u001b[0m\u001b[1;32m     23\u001b[0m         \u001b[0mdata\u001b[0m \u001b[0;34m=\u001b[0m \u001b[0mresponse\u001b[0m\u001b[0;34m.\u001b[0m\u001b[0mjson\u001b[0m\u001b[0;34m(\u001b[0m\u001b[0;34m)\u001b[0m\u001b[0;34m\u001b[0m\u001b[0;34m\u001b[0m\u001b[0m\n\u001b[1;32m     24\u001b[0m         \u001b[0mVOLKSWAGEN_offers\u001b[0m\u001b[0;34m.\u001b[0m\u001b[0mextend\u001b[0m\u001b[0;34m(\u001b[0m\u001b[0mdata\u001b[0m\u001b[0;34m[\u001b[0m\u001b[0;34m'offers'\u001b[0m\u001b[0;34m]\u001b[0m\u001b[0;34m)\u001b[0m\u001b[0;34m\u001b[0m\u001b[0;34m\u001b[0m\u001b[0m\n",
      "\u001b[0;32m~/opt/anaconda3/lib/python3.7/site-packages/requests/api.py\u001b[0m in \u001b[0;36mpost\u001b[0;34m(url, data, json, **kwargs)\u001b[0m\n\u001b[1;32m    117\u001b[0m     \"\"\"\n\u001b[1;32m    118\u001b[0m \u001b[0;34m\u001b[0m\u001b[0m\n\u001b[0;32m--> 119\u001b[0;31m     \u001b[0;32mreturn\u001b[0m \u001b[0mrequest\u001b[0m\u001b[0;34m(\u001b[0m\u001b[0;34m'post'\u001b[0m\u001b[0;34m,\u001b[0m \u001b[0murl\u001b[0m\u001b[0;34m,\u001b[0m \u001b[0mdata\u001b[0m\u001b[0;34m=\u001b[0m\u001b[0mdata\u001b[0m\u001b[0;34m,\u001b[0m \u001b[0mjson\u001b[0m\u001b[0;34m=\u001b[0m\u001b[0mjson\u001b[0m\u001b[0;34m,\u001b[0m \u001b[0;34m**\u001b[0m\u001b[0mkwargs\u001b[0m\u001b[0;34m)\u001b[0m\u001b[0;34m\u001b[0m\u001b[0;34m\u001b[0m\u001b[0m\n\u001b[0m\u001b[1;32m    120\u001b[0m \u001b[0;34m\u001b[0m\u001b[0m\n\u001b[1;32m    121\u001b[0m \u001b[0;34m\u001b[0m\u001b[0m\n",
      "\u001b[0;32m~/opt/anaconda3/lib/python3.7/site-packages/requests/api.py\u001b[0m in \u001b[0;36mrequest\u001b[0;34m(method, url, **kwargs)\u001b[0m\n\u001b[1;32m     59\u001b[0m     \u001b[0;31m# cases, and look like a memory leak in others.\u001b[0m\u001b[0;34m\u001b[0m\u001b[0;34m\u001b[0m\u001b[0;34m\u001b[0m\u001b[0m\n\u001b[1;32m     60\u001b[0m     \u001b[0;32mwith\u001b[0m \u001b[0msessions\u001b[0m\u001b[0;34m.\u001b[0m\u001b[0mSession\u001b[0m\u001b[0;34m(\u001b[0m\u001b[0;34m)\u001b[0m \u001b[0;32mas\u001b[0m \u001b[0msession\u001b[0m\u001b[0;34m:\u001b[0m\u001b[0;34m\u001b[0m\u001b[0;34m\u001b[0m\u001b[0m\n\u001b[0;32m---> 61\u001b[0;31m         \u001b[0;32mreturn\u001b[0m \u001b[0msession\u001b[0m\u001b[0;34m.\u001b[0m\u001b[0mrequest\u001b[0m\u001b[0;34m(\u001b[0m\u001b[0mmethod\u001b[0m\u001b[0;34m=\u001b[0m\u001b[0mmethod\u001b[0m\u001b[0;34m,\u001b[0m \u001b[0murl\u001b[0m\u001b[0;34m=\u001b[0m\u001b[0murl\u001b[0m\u001b[0;34m,\u001b[0m \u001b[0;34m**\u001b[0m\u001b[0mkwargs\u001b[0m\u001b[0;34m)\u001b[0m\u001b[0;34m\u001b[0m\u001b[0;34m\u001b[0m\u001b[0m\n\u001b[0m\u001b[1;32m     62\u001b[0m \u001b[0;34m\u001b[0m\u001b[0m\n\u001b[1;32m     63\u001b[0m \u001b[0;34m\u001b[0m\u001b[0m\n",
      "\u001b[0;32m~/opt/anaconda3/lib/python3.7/site-packages/requests/sessions.py\u001b[0m in \u001b[0;36mrequest\u001b[0;34m(self, method, url, params, data, headers, cookies, files, auth, timeout, allow_redirects, proxies, hooks, stream, verify, cert, json)\u001b[0m\n\u001b[1;32m    528\u001b[0m         }\n\u001b[1;32m    529\u001b[0m         \u001b[0msend_kwargs\u001b[0m\u001b[0;34m.\u001b[0m\u001b[0mupdate\u001b[0m\u001b[0;34m(\u001b[0m\u001b[0msettings\u001b[0m\u001b[0;34m)\u001b[0m\u001b[0;34m\u001b[0m\u001b[0;34m\u001b[0m\u001b[0m\n\u001b[0;32m--> 530\u001b[0;31m         \u001b[0mresp\u001b[0m \u001b[0;34m=\u001b[0m \u001b[0mself\u001b[0m\u001b[0;34m.\u001b[0m\u001b[0msend\u001b[0m\u001b[0;34m(\u001b[0m\u001b[0mprep\u001b[0m\u001b[0;34m,\u001b[0m \u001b[0;34m**\u001b[0m\u001b[0msend_kwargs\u001b[0m\u001b[0;34m)\u001b[0m\u001b[0;34m\u001b[0m\u001b[0;34m\u001b[0m\u001b[0m\n\u001b[0m\u001b[1;32m    531\u001b[0m \u001b[0;34m\u001b[0m\u001b[0m\n\u001b[1;32m    532\u001b[0m         \u001b[0;32mreturn\u001b[0m \u001b[0mresp\u001b[0m\u001b[0;34m\u001b[0m\u001b[0;34m\u001b[0m\u001b[0m\n",
      "\u001b[0;32m~/opt/anaconda3/lib/python3.7/site-packages/requests/sessions.py\u001b[0m in \u001b[0;36msend\u001b[0;34m(self, request, **kwargs)\u001b[0m\n\u001b[1;32m    641\u001b[0m \u001b[0;34m\u001b[0m\u001b[0m\n\u001b[1;32m    642\u001b[0m         \u001b[0;31m# Send the request\u001b[0m\u001b[0;34m\u001b[0m\u001b[0;34m\u001b[0m\u001b[0;34m\u001b[0m\u001b[0m\n\u001b[0;32m--> 643\u001b[0;31m         \u001b[0mr\u001b[0m \u001b[0;34m=\u001b[0m \u001b[0madapter\u001b[0m\u001b[0;34m.\u001b[0m\u001b[0msend\u001b[0m\u001b[0;34m(\u001b[0m\u001b[0mrequest\u001b[0m\u001b[0;34m,\u001b[0m \u001b[0;34m**\u001b[0m\u001b[0mkwargs\u001b[0m\u001b[0;34m)\u001b[0m\u001b[0;34m\u001b[0m\u001b[0;34m\u001b[0m\u001b[0m\n\u001b[0m\u001b[1;32m    644\u001b[0m \u001b[0;34m\u001b[0m\u001b[0m\n\u001b[1;32m    645\u001b[0m         \u001b[0;31m# Total elapsed time of the request (approximately)\u001b[0m\u001b[0;34m\u001b[0m\u001b[0;34m\u001b[0m\u001b[0;34m\u001b[0m\u001b[0m\n",
      "\u001b[0;32m~/opt/anaconda3/lib/python3.7/site-packages/requests/adapters.py\u001b[0m in \u001b[0;36msend\u001b[0;34m(self, request, stream, timeout, verify, cert, proxies)\u001b[0m\n\u001b[1;32m    447\u001b[0m                     \u001b[0mdecode_content\u001b[0m\u001b[0;34m=\u001b[0m\u001b[0;32mFalse\u001b[0m\u001b[0;34m,\u001b[0m\u001b[0;34m\u001b[0m\u001b[0;34m\u001b[0m\u001b[0m\n\u001b[1;32m    448\u001b[0m                     \u001b[0mretries\u001b[0m\u001b[0;34m=\u001b[0m\u001b[0mself\u001b[0m\u001b[0;34m.\u001b[0m\u001b[0mmax_retries\u001b[0m\u001b[0;34m,\u001b[0m\u001b[0;34m\u001b[0m\u001b[0;34m\u001b[0m\u001b[0m\n\u001b[0;32m--> 449\u001b[0;31m                     \u001b[0mtimeout\u001b[0m\u001b[0;34m=\u001b[0m\u001b[0mtimeout\u001b[0m\u001b[0;34m\u001b[0m\u001b[0;34m\u001b[0m\u001b[0m\n\u001b[0m\u001b[1;32m    450\u001b[0m                 )\n\u001b[1;32m    451\u001b[0m \u001b[0;34m\u001b[0m\u001b[0m\n",
      "\u001b[0;32m~/opt/anaconda3/lib/python3.7/site-packages/urllib3/connectionpool.py\u001b[0m in \u001b[0;36murlopen\u001b[0;34m(self, method, url, body, headers, retries, redirect, assert_same_host, timeout, pool_timeout, release_conn, chunked, body_pos, **response_kw)\u001b[0m\n\u001b[1;32m    675\u001b[0m                 \u001b[0mbody\u001b[0m\u001b[0;34m=\u001b[0m\u001b[0mbody\u001b[0m\u001b[0;34m,\u001b[0m\u001b[0;34m\u001b[0m\u001b[0;34m\u001b[0m\u001b[0m\n\u001b[1;32m    676\u001b[0m                 \u001b[0mheaders\u001b[0m\u001b[0;34m=\u001b[0m\u001b[0mheaders\u001b[0m\u001b[0;34m,\u001b[0m\u001b[0;34m\u001b[0m\u001b[0;34m\u001b[0m\u001b[0m\n\u001b[0;32m--> 677\u001b[0;31m                 \u001b[0mchunked\u001b[0m\u001b[0;34m=\u001b[0m\u001b[0mchunked\u001b[0m\u001b[0;34m,\u001b[0m\u001b[0;34m\u001b[0m\u001b[0;34m\u001b[0m\u001b[0m\n\u001b[0m\u001b[1;32m    678\u001b[0m             )\n\u001b[1;32m    679\u001b[0m \u001b[0;34m\u001b[0m\u001b[0m\n",
      "\u001b[0;32m~/opt/anaconda3/lib/python3.7/site-packages/urllib3/connectionpool.py\u001b[0m in \u001b[0;36m_make_request\u001b[0;34m(self, conn, method, url, timeout, chunked, **httplib_request_kw)\u001b[0m\n\u001b[1;32m    424\u001b[0m                     \u001b[0;31m# Python 3 (including for exceptions like SystemExit).\u001b[0m\u001b[0;34m\u001b[0m\u001b[0;34m\u001b[0m\u001b[0;34m\u001b[0m\u001b[0m\n\u001b[1;32m    425\u001b[0m                     \u001b[0;31m# Otherwise it looks like a bug in the code.\u001b[0m\u001b[0;34m\u001b[0m\u001b[0;34m\u001b[0m\u001b[0;34m\u001b[0m\u001b[0m\n\u001b[0;32m--> 426\u001b[0;31m                     \u001b[0msix\u001b[0m\u001b[0;34m.\u001b[0m\u001b[0mraise_from\u001b[0m\u001b[0;34m(\u001b[0m\u001b[0me\u001b[0m\u001b[0;34m,\u001b[0m \u001b[0;32mNone\u001b[0m\u001b[0;34m)\u001b[0m\u001b[0;34m\u001b[0m\u001b[0;34m\u001b[0m\u001b[0m\n\u001b[0m\u001b[1;32m    427\u001b[0m         \u001b[0;32mexcept\u001b[0m \u001b[0;34m(\u001b[0m\u001b[0mSocketTimeout\u001b[0m\u001b[0;34m,\u001b[0m \u001b[0mBaseSSLError\u001b[0m\u001b[0;34m,\u001b[0m \u001b[0mSocketError\u001b[0m\u001b[0;34m)\u001b[0m \u001b[0;32mas\u001b[0m \u001b[0me\u001b[0m\u001b[0;34m:\u001b[0m\u001b[0;34m\u001b[0m\u001b[0;34m\u001b[0m\u001b[0m\n\u001b[1;32m    428\u001b[0m             \u001b[0mself\u001b[0m\u001b[0;34m.\u001b[0m\u001b[0m_raise_timeout\u001b[0m\u001b[0;34m(\u001b[0m\u001b[0merr\u001b[0m\u001b[0;34m=\u001b[0m\u001b[0me\u001b[0m\u001b[0;34m,\u001b[0m \u001b[0murl\u001b[0m\u001b[0;34m=\u001b[0m\u001b[0murl\u001b[0m\u001b[0;34m,\u001b[0m \u001b[0mtimeout_value\u001b[0m\u001b[0;34m=\u001b[0m\u001b[0mread_timeout\u001b[0m\u001b[0;34m)\u001b[0m\u001b[0;34m\u001b[0m\u001b[0;34m\u001b[0m\u001b[0m\n",
      "\u001b[0;32m~/opt/anaconda3/lib/python3.7/site-packages/urllib3/packages/six.py\u001b[0m in \u001b[0;36mraise_from\u001b[0;34m(value, from_value)\u001b[0m\n",
      "\u001b[0;32m~/opt/anaconda3/lib/python3.7/site-packages/urllib3/connectionpool.py\u001b[0m in \u001b[0;36m_make_request\u001b[0;34m(self, conn, method, url, timeout, chunked, **httplib_request_kw)\u001b[0m\n\u001b[1;32m    419\u001b[0m                 \u001b[0;31m# Python 3\u001b[0m\u001b[0;34m\u001b[0m\u001b[0;34m\u001b[0m\u001b[0;34m\u001b[0m\u001b[0m\n\u001b[1;32m    420\u001b[0m                 \u001b[0;32mtry\u001b[0m\u001b[0;34m:\u001b[0m\u001b[0;34m\u001b[0m\u001b[0;34m\u001b[0m\u001b[0m\n\u001b[0;32m--> 421\u001b[0;31m                     \u001b[0mhttplib_response\u001b[0m \u001b[0;34m=\u001b[0m \u001b[0mconn\u001b[0m\u001b[0;34m.\u001b[0m\u001b[0mgetresponse\u001b[0m\u001b[0;34m(\u001b[0m\u001b[0;34m)\u001b[0m\u001b[0;34m\u001b[0m\u001b[0;34m\u001b[0m\u001b[0m\n\u001b[0m\u001b[1;32m    422\u001b[0m                 \u001b[0;32mexcept\u001b[0m \u001b[0mBaseException\u001b[0m \u001b[0;32mas\u001b[0m \u001b[0me\u001b[0m\u001b[0;34m:\u001b[0m\u001b[0;34m\u001b[0m\u001b[0;34m\u001b[0m\u001b[0m\n\u001b[1;32m    423\u001b[0m                     \u001b[0;31m# Remove the TypeError from the exception chain in\u001b[0m\u001b[0;34m\u001b[0m\u001b[0;34m\u001b[0m\u001b[0;34m\u001b[0m\u001b[0m\n",
      "\u001b[0;32m~/opt/anaconda3/lib/python3.7/http/client.py\u001b[0m in \u001b[0;36mgetresponse\u001b[0;34m(self)\u001b[0m\n\u001b[1;32m   1342\u001b[0m         \u001b[0;32mtry\u001b[0m\u001b[0;34m:\u001b[0m\u001b[0;34m\u001b[0m\u001b[0;34m\u001b[0m\u001b[0m\n\u001b[1;32m   1343\u001b[0m             \u001b[0;32mtry\u001b[0m\u001b[0;34m:\u001b[0m\u001b[0;34m\u001b[0m\u001b[0;34m\u001b[0m\u001b[0m\n\u001b[0;32m-> 1344\u001b[0;31m                 \u001b[0mresponse\u001b[0m\u001b[0;34m.\u001b[0m\u001b[0mbegin\u001b[0m\u001b[0;34m(\u001b[0m\u001b[0;34m)\u001b[0m\u001b[0;34m\u001b[0m\u001b[0;34m\u001b[0m\u001b[0m\n\u001b[0m\u001b[1;32m   1345\u001b[0m             \u001b[0;32mexcept\u001b[0m \u001b[0mConnectionError\u001b[0m\u001b[0;34m:\u001b[0m\u001b[0;34m\u001b[0m\u001b[0;34m\u001b[0m\u001b[0m\n\u001b[1;32m   1346\u001b[0m                 \u001b[0mself\u001b[0m\u001b[0;34m.\u001b[0m\u001b[0mclose\u001b[0m\u001b[0;34m(\u001b[0m\u001b[0;34m)\u001b[0m\u001b[0;34m\u001b[0m\u001b[0;34m\u001b[0m\u001b[0m\n",
      "\u001b[0;32m~/opt/anaconda3/lib/python3.7/http/client.py\u001b[0m in \u001b[0;36mbegin\u001b[0;34m(self)\u001b[0m\n\u001b[1;32m    304\u001b[0m         \u001b[0;31m# read until we get a non-100 response\u001b[0m\u001b[0;34m\u001b[0m\u001b[0;34m\u001b[0m\u001b[0;34m\u001b[0m\u001b[0m\n\u001b[1;32m    305\u001b[0m         \u001b[0;32mwhile\u001b[0m \u001b[0;32mTrue\u001b[0m\u001b[0;34m:\u001b[0m\u001b[0;34m\u001b[0m\u001b[0;34m\u001b[0m\u001b[0m\n\u001b[0;32m--> 306\u001b[0;31m             \u001b[0mversion\u001b[0m\u001b[0;34m,\u001b[0m \u001b[0mstatus\u001b[0m\u001b[0;34m,\u001b[0m \u001b[0mreason\u001b[0m \u001b[0;34m=\u001b[0m \u001b[0mself\u001b[0m\u001b[0;34m.\u001b[0m\u001b[0m_read_status\u001b[0m\u001b[0;34m(\u001b[0m\u001b[0;34m)\u001b[0m\u001b[0;34m\u001b[0m\u001b[0;34m\u001b[0m\u001b[0m\n\u001b[0m\u001b[1;32m    307\u001b[0m             \u001b[0;32mif\u001b[0m \u001b[0mstatus\u001b[0m \u001b[0;34m!=\u001b[0m \u001b[0mCONTINUE\u001b[0m\u001b[0;34m:\u001b[0m\u001b[0;34m\u001b[0m\u001b[0;34m\u001b[0m\u001b[0m\n\u001b[1;32m    308\u001b[0m                 \u001b[0;32mbreak\u001b[0m\u001b[0;34m\u001b[0m\u001b[0;34m\u001b[0m\u001b[0m\n",
      "\u001b[0;32m~/opt/anaconda3/lib/python3.7/http/client.py\u001b[0m in \u001b[0;36m_read_status\u001b[0;34m(self)\u001b[0m\n\u001b[1;32m    265\u001b[0m \u001b[0;34m\u001b[0m\u001b[0m\n\u001b[1;32m    266\u001b[0m     \u001b[0;32mdef\u001b[0m \u001b[0m_read_status\u001b[0m\u001b[0;34m(\u001b[0m\u001b[0mself\u001b[0m\u001b[0;34m)\u001b[0m\u001b[0;34m:\u001b[0m\u001b[0;34m\u001b[0m\u001b[0;34m\u001b[0m\u001b[0m\n\u001b[0;32m--> 267\u001b[0;31m         \u001b[0mline\u001b[0m \u001b[0;34m=\u001b[0m \u001b[0mstr\u001b[0m\u001b[0;34m(\u001b[0m\u001b[0mself\u001b[0m\u001b[0;34m.\u001b[0m\u001b[0mfp\u001b[0m\u001b[0;34m.\u001b[0m\u001b[0mreadline\u001b[0m\u001b[0;34m(\u001b[0m\u001b[0m_MAXLINE\u001b[0m \u001b[0;34m+\u001b[0m \u001b[0;36m1\u001b[0m\u001b[0;34m)\u001b[0m\u001b[0;34m,\u001b[0m \u001b[0;34m\"iso-8859-1\"\u001b[0m\u001b[0;34m)\u001b[0m\u001b[0;34m\u001b[0m\u001b[0;34m\u001b[0m\u001b[0m\n\u001b[0m\u001b[1;32m    268\u001b[0m         \u001b[0;32mif\u001b[0m \u001b[0mlen\u001b[0m\u001b[0;34m(\u001b[0m\u001b[0mline\u001b[0m\u001b[0;34m)\u001b[0m \u001b[0;34m>\u001b[0m \u001b[0m_MAXLINE\u001b[0m\u001b[0;34m:\u001b[0m\u001b[0;34m\u001b[0m\u001b[0;34m\u001b[0m\u001b[0m\n\u001b[1;32m    269\u001b[0m             \u001b[0;32mraise\u001b[0m \u001b[0mLineTooLong\u001b[0m\u001b[0;34m(\u001b[0m\u001b[0;34m\"status line\"\u001b[0m\u001b[0;34m)\u001b[0m\u001b[0;34m\u001b[0m\u001b[0;34m\u001b[0m\u001b[0m\n",
      "\u001b[0;32m~/opt/anaconda3/lib/python3.7/socket.py\u001b[0m in \u001b[0;36mreadinto\u001b[0;34m(self, b)\u001b[0m\n\u001b[1;32m    587\u001b[0m         \u001b[0;32mwhile\u001b[0m \u001b[0;32mTrue\u001b[0m\u001b[0;34m:\u001b[0m\u001b[0;34m\u001b[0m\u001b[0;34m\u001b[0m\u001b[0m\n\u001b[1;32m    588\u001b[0m             \u001b[0;32mtry\u001b[0m\u001b[0;34m:\u001b[0m\u001b[0;34m\u001b[0m\u001b[0;34m\u001b[0m\u001b[0m\n\u001b[0;32m--> 589\u001b[0;31m                 \u001b[0;32mreturn\u001b[0m \u001b[0mself\u001b[0m\u001b[0;34m.\u001b[0m\u001b[0m_sock\u001b[0m\u001b[0;34m.\u001b[0m\u001b[0mrecv_into\u001b[0m\u001b[0;34m(\u001b[0m\u001b[0mb\u001b[0m\u001b[0;34m)\u001b[0m\u001b[0;34m\u001b[0m\u001b[0;34m\u001b[0m\u001b[0m\n\u001b[0m\u001b[1;32m    590\u001b[0m             \u001b[0;32mexcept\u001b[0m \u001b[0mtimeout\u001b[0m\u001b[0;34m:\u001b[0m\u001b[0;34m\u001b[0m\u001b[0;34m\u001b[0m\u001b[0m\n\u001b[1;32m    591\u001b[0m                 \u001b[0mself\u001b[0m\u001b[0;34m.\u001b[0m\u001b[0m_timeout_occurred\u001b[0m \u001b[0;34m=\u001b[0m \u001b[0;32mTrue\u001b[0m\u001b[0;34m\u001b[0m\u001b[0;34m\u001b[0m\u001b[0m\n",
      "\u001b[0;32m~/opt/anaconda3/lib/python3.7/ssl.py\u001b[0m in \u001b[0;36mrecv_into\u001b[0;34m(self, buffer, nbytes, flags)\u001b[0m\n\u001b[1;32m   1069\u001b[0m                   \u001b[0;34m\"non-zero flags not allowed in calls to recv_into() on %s\"\u001b[0m \u001b[0;34m%\u001b[0m\u001b[0;34m\u001b[0m\u001b[0;34m\u001b[0m\u001b[0m\n\u001b[1;32m   1070\u001b[0m                   self.__class__)\n\u001b[0;32m-> 1071\u001b[0;31m             \u001b[0;32mreturn\u001b[0m \u001b[0mself\u001b[0m\u001b[0;34m.\u001b[0m\u001b[0mread\u001b[0m\u001b[0;34m(\u001b[0m\u001b[0mnbytes\u001b[0m\u001b[0;34m,\u001b[0m \u001b[0mbuffer\u001b[0m\u001b[0;34m)\u001b[0m\u001b[0;34m\u001b[0m\u001b[0;34m\u001b[0m\u001b[0m\n\u001b[0m\u001b[1;32m   1072\u001b[0m         \u001b[0;32melse\u001b[0m\u001b[0;34m:\u001b[0m\u001b[0;34m\u001b[0m\u001b[0;34m\u001b[0m\u001b[0m\n\u001b[1;32m   1073\u001b[0m             \u001b[0;32mreturn\u001b[0m \u001b[0msuper\u001b[0m\u001b[0;34m(\u001b[0m\u001b[0;34m)\u001b[0m\u001b[0;34m.\u001b[0m\u001b[0mrecv_into\u001b[0m\u001b[0;34m(\u001b[0m\u001b[0mbuffer\u001b[0m\u001b[0;34m,\u001b[0m \u001b[0mnbytes\u001b[0m\u001b[0;34m,\u001b[0m \u001b[0mflags\u001b[0m\u001b[0;34m)\u001b[0m\u001b[0;34m\u001b[0m\u001b[0;34m\u001b[0m\u001b[0m\n",
      "\u001b[0;32m~/opt/anaconda3/lib/python3.7/ssl.py\u001b[0m in \u001b[0;36mread\u001b[0;34m(self, len, buffer)\u001b[0m\n\u001b[1;32m    927\u001b[0m         \u001b[0;32mtry\u001b[0m\u001b[0;34m:\u001b[0m\u001b[0;34m\u001b[0m\u001b[0;34m\u001b[0m\u001b[0m\n\u001b[1;32m    928\u001b[0m             \u001b[0;32mif\u001b[0m \u001b[0mbuffer\u001b[0m \u001b[0;32mis\u001b[0m \u001b[0;32mnot\u001b[0m \u001b[0;32mNone\u001b[0m\u001b[0;34m:\u001b[0m\u001b[0;34m\u001b[0m\u001b[0;34m\u001b[0m\u001b[0m\n\u001b[0;32m--> 929\u001b[0;31m                 \u001b[0;32mreturn\u001b[0m \u001b[0mself\u001b[0m\u001b[0;34m.\u001b[0m\u001b[0m_sslobj\u001b[0m\u001b[0;34m.\u001b[0m\u001b[0mread\u001b[0m\u001b[0;34m(\u001b[0m\u001b[0mlen\u001b[0m\u001b[0;34m,\u001b[0m \u001b[0mbuffer\u001b[0m\u001b[0;34m)\u001b[0m\u001b[0;34m\u001b[0m\u001b[0;34m\u001b[0m\u001b[0m\n\u001b[0m\u001b[1;32m    930\u001b[0m             \u001b[0;32melse\u001b[0m\u001b[0;34m:\u001b[0m\u001b[0;34m\u001b[0m\u001b[0;34m\u001b[0m\u001b[0m\n\u001b[1;32m    931\u001b[0m                 \u001b[0;32mreturn\u001b[0m \u001b[0mself\u001b[0m\u001b[0;34m.\u001b[0m\u001b[0m_sslobj\u001b[0m\u001b[0;34m.\u001b[0m\u001b[0mread\u001b[0m\u001b[0;34m(\u001b[0m\u001b[0mlen\u001b[0m\u001b[0;34m)\u001b[0m\u001b[0;34m\u001b[0m\u001b[0;34m\u001b[0m\u001b[0m\n",
      "\u001b[0;31mKeyboardInterrupt\u001b[0m: "
     ]
    }
   ],
   "source": [
    "# Спарсим все объявления по VOLKSWAGEN\n",
    "\n",
    "url = 'https://auto.ru/-/ajax/desktop/listing/'\n",
    "VOLKSWAGEN_offers = []\n",
    "for model in dict_models['VOLKSWAGEN']:\n",
    "    params = {\n",
    "        \"category\":\"cars\",\n",
    "        \"section\":\"all\",\n",
    "        \"catalog_filter\":[{\"mark\":'VOLKSWAGEN',\"model\":model}],\n",
    "        \"page\":1,\n",
    "        \"geo_id\":[1]}\n",
    "    response = requests.post(url, json=params, headers = dict_heared)\n",
    "    data = response.json()\n",
    "    i = data['pagination']['total_page_count']\n",
    "    for x in range(1,i+1):\n",
    "        params = {\n",
    "            \"category\":\"cars\",\n",
    "            \"section\":\"all\",\n",
    "            \"catalog_filter\":[{\"mark\":'VOLKSWAGEN',\"model\":model}],\n",
    "            \"page\":x,\n",
    "            \"geo_id\":[1]}\n",
    "        response = requests.post(url, json=params, headers = dict_heared)\n",
    "        data = response.json()\n",
    "        VOLKSWAGEN_offers.extend(data['offers'])"
   ]
  },
  {
   "cell_type": "code",
   "execution_count": 95,
   "metadata": {},
   "outputs": [],
   "source": [
    "VOLKSWAGEN_data = pd.DataFrame(VOLKSWAGEN_offers)\n",
    "\n",
    "VOLKSWAGEN_data.to_csv('VOLKSWAGEN_data.csv')"
   ]
  },
  {
   "cell_type": "code",
   "execution_count": 32,
   "metadata": {},
   "outputs": [],
   "source": [
    "# попробуем еще раз пройтись циклом по нескольким маркам\n",
    "mark_list = ['CHEVROLET','HYUNDAI','FORD','KIA','MITSUBISHI','TOYOTA']\n",
    "big_offers = []\n",
    "\n",
    "for mark in mark_list:\n",
    "    for model in dict_models[mark]:\n",
    "        params = {\n",
    "            \"category\":\"cars\",\n",
    "            \"section\":\"all\",\n",
    "            \"catalog_filter\":[{\"mark\":mark,\"model\":model}],\n",
    "            \"page\":1,\n",
    "            \"geo_id\":[1]}\n",
    "        response = requests.post(url, json=params, headers = dict_heared)\n",
    "        data = response.json()\n",
    "        i = data['pagination']['total_page_count']\n",
    "        for x in range(1,i+1):\n",
    "            params = {\n",
    "                \"category\":\"cars\",\n",
    "                \"section\":\"all\",\n",
    "                \"catalog_filter\":[{\"mark\":mark,\"model\":model}],\n",
    "                \"page\":x,\n",
    "                \"geo_id\":[1]}\n",
    "            response = requests.post(url, json=params, headers = dict_heared)\n",
    "            data = response.json()\n",
    "            big_offers.extend(data['offers'])\n"
   ]
  },
  {
   "cell_type": "markdown",
   "metadata": {},
   "source": [
    "теперь получилось норм. Ну в любом случае у нас есть несколько файлов с данными, которые мы сохранили и можем использовать для обучения модели"
   ]
  },
  {
   "cell_type": "code",
   "execution_count": 34,
   "metadata": {},
   "outputs": [],
   "source": [
    "big_data = pd.DataFrame(big_offers)\n",
    "\n",
    "big_data.to_csv('big_offers.csv')"
   ]
  },
  {
   "cell_type": "code",
   "execution_count": null,
   "metadata": {},
   "outputs": [],
   "source": []
  }
 ],
 "metadata": {
  "kernelspec": {
   "display_name": "Python 3",
   "language": "python",
   "name": "python3"
  },
  "language_info": {
   "codemirror_mode": {
    "name": "ipython",
    "version": 3
   },
   "file_extension": ".py",
   "mimetype": "text/x-python",
   "name": "python",
   "nbconvert_exporter": "python",
   "pygments_lexer": "ipython3",
   "version": "3.7.7"
  },
  "toc": {
   "base_numbering": 1,
   "nav_menu": {},
   "number_sections": true,
   "sideBar": true,
   "skip_h1_title": false,
   "title_cell": "Table of Contents",
   "title_sidebar": "Contents",
   "toc_cell": false,
   "toc_position": {},
   "toc_section_display": true,
   "toc_window_display": false
  },
  "varInspector": {
   "cols": {
    "lenName": 16,
    "lenType": 16,
    "lenVar": 40
   },
   "kernels_config": {
    "python": {
     "delete_cmd_postfix": "",
     "delete_cmd_prefix": "del ",
     "library": "var_list.py",
     "varRefreshCmd": "print(var_dic_list())"
    },
    "r": {
     "delete_cmd_postfix": ") ",
     "delete_cmd_prefix": "rm(",
     "library": "var_list.r",
     "varRefreshCmd": "cat(var_dic_list()) "
    }
   },
   "types_to_exclude": [
    "module",
    "function",
    "builtin_function_or_method",
    "instance",
    "_Feature"
   ],
   "window_display": false
  }
 },
 "nbformat": 4,
 "nbformat_minor": 4
}
