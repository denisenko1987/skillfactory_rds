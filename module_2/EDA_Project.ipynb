{
 "cells": [
  {
   "cell_type": "markdown",
   "metadata": {},
   "source": [
    "# Учебный EDA проект"
   ]
  },
  {
   "cell_type": "markdown",
   "metadata": {},
   "source": [
    "Цель проекта: провести разведывательный анализ данных представленного датасета\n",
    "\n",
    "Задачи проекта: \n",
    "- провести первичную обработку\n",
    "- посмотреть распределение признаков для числовых переменных и устранить выбросы\n",
    "- оценить количество уникальных значений для номинативных переменных\n",
    "- провести корреляционный анализ количественных переменных\n",
    "- провести анализ влияния наминативных переменных на предсказываемую величину \n",
    "- провести отбор признаков"
   ]
  },
  {
   "cell_type": "code",
   "execution_count": 1,
   "metadata": {},
   "outputs": [],
   "source": [
    "import pandas as pd\n",
    "import matplotlib.pyplot as plt\n",
    "import seaborn as sns\n",
    "from itertools import combinations\n",
    "from scipy.stats import ttest_ind\n",
    "\n",
    "pd.set_option('display.max_rows', 50) # показывать больше строк\n",
    "pd.set_option('display.max_columns', 50) # показывать больше колонок"
   ]
  },
  {
   "cell_type": "code",
   "execution_count": 2,
   "metadata": {
    "scrolled": true
   },
   "outputs": [
    {
     "name": "stdout",
     "output_type": "stream",
     "text": [
      "<class 'pandas.core.frame.DataFrame'>\n",
      "RangeIndex: 395 entries, 0 to 394\n",
      "Data columns (total 30 columns):\n",
      "school                 395 non-null object\n",
      "sex                    395 non-null object\n",
      "age                    395 non-null int64\n",
      "address                378 non-null object\n",
      "famsize                368 non-null object\n",
      "Pstatus                350 non-null object\n",
      "Medu                   392 non-null float64\n",
      "Fedu                   371 non-null float64\n",
      "Mjob                   376 non-null object\n",
      "Fjob                   359 non-null object\n",
      "reason                 378 non-null object\n",
      "guardian               364 non-null object\n",
      "traveltime             367 non-null float64\n",
      "studytime              388 non-null float64\n",
      "failures               373 non-null float64\n",
      "schoolsup              386 non-null object\n",
      "famsup                 356 non-null object\n",
      "paid                   355 non-null object\n",
      "activities             381 non-null object\n",
      "nursery                379 non-null object\n",
      "studytime, granular    388 non-null float64\n",
      "higher                 375 non-null object\n",
      "internet               361 non-null object\n",
      "romantic               364 non-null object\n",
      "famrel                 368 non-null float64\n",
      "freetime               384 non-null float64\n",
      "goout                  387 non-null float64\n",
      "health                 380 non-null float64\n",
      "absences               383 non-null float64\n",
      "score                  389 non-null float64\n",
      "dtypes: float64(12), int64(1), object(17)\n",
      "memory usage: 92.7+ KB\n"
     ]
    },
    {
     "data": {
      "text/plain": [
       "None"
      ]
     },
     "metadata": {},
     "output_type": "display_data"
    },
    {
     "data": {
      "text/html": [
       "<div>\n",
       "<style scoped>\n",
       "    .dataframe tbody tr th:only-of-type {\n",
       "        vertical-align: middle;\n",
       "    }\n",
       "\n",
       "    .dataframe tbody tr th {\n",
       "        vertical-align: top;\n",
       "    }\n",
       "\n",
       "    .dataframe thead th {\n",
       "        text-align: right;\n",
       "    }\n",
       "</style>\n",
       "<table border=\"1\" class=\"dataframe\">\n",
       "  <thead>\n",
       "    <tr style=\"text-align: right;\">\n",
       "      <th></th>\n",
       "      <th>school</th>\n",
       "      <th>sex</th>\n",
       "      <th>age</th>\n",
       "      <th>address</th>\n",
       "      <th>famsize</th>\n",
       "      <th>Pstatus</th>\n",
       "      <th>Medu</th>\n",
       "      <th>Fedu</th>\n",
       "      <th>Mjob</th>\n",
       "      <th>Fjob</th>\n",
       "      <th>reason</th>\n",
       "      <th>guardian</th>\n",
       "      <th>traveltime</th>\n",
       "      <th>studytime</th>\n",
       "      <th>failures</th>\n",
       "      <th>schoolsup</th>\n",
       "      <th>famsup</th>\n",
       "      <th>paid</th>\n",
       "      <th>activities</th>\n",
       "      <th>nursery</th>\n",
       "      <th>studytime, granular</th>\n",
       "      <th>higher</th>\n",
       "      <th>internet</th>\n",
       "      <th>romantic</th>\n",
       "      <th>famrel</th>\n",
       "      <th>freetime</th>\n",
       "      <th>goout</th>\n",
       "      <th>health</th>\n",
       "      <th>absences</th>\n",
       "      <th>score</th>\n",
       "    </tr>\n",
       "  </thead>\n",
       "  <tbody>\n",
       "    <tr>\n",
       "      <td>0</td>\n",
       "      <td>GP</td>\n",
       "      <td>F</td>\n",
       "      <td>18</td>\n",
       "      <td>U</td>\n",
       "      <td>NaN</td>\n",
       "      <td>A</td>\n",
       "      <td>4.0</td>\n",
       "      <td>4.0</td>\n",
       "      <td>at_home</td>\n",
       "      <td>teacher</td>\n",
       "      <td>course</td>\n",
       "      <td>mother</td>\n",
       "      <td>2.0</td>\n",
       "      <td>2.0</td>\n",
       "      <td>0.0</td>\n",
       "      <td>yes</td>\n",
       "      <td>no</td>\n",
       "      <td>no</td>\n",
       "      <td>no</td>\n",
       "      <td>yes</td>\n",
       "      <td>-6.0</td>\n",
       "      <td>yes</td>\n",
       "      <td>NaN</td>\n",
       "      <td>no</td>\n",
       "      <td>4.0</td>\n",
       "      <td>3.0</td>\n",
       "      <td>4.0</td>\n",
       "      <td>3.0</td>\n",
       "      <td>6.0</td>\n",
       "      <td>30.0</td>\n",
       "    </tr>\n",
       "    <tr>\n",
       "      <td>1</td>\n",
       "      <td>GP</td>\n",
       "      <td>F</td>\n",
       "      <td>17</td>\n",
       "      <td>U</td>\n",
       "      <td>GT3</td>\n",
       "      <td>NaN</td>\n",
       "      <td>1.0</td>\n",
       "      <td>1.0</td>\n",
       "      <td>at_home</td>\n",
       "      <td>other</td>\n",
       "      <td>course</td>\n",
       "      <td>father</td>\n",
       "      <td>1.0</td>\n",
       "      <td>2.0</td>\n",
       "      <td>0.0</td>\n",
       "      <td>no</td>\n",
       "      <td>yes</td>\n",
       "      <td>no</td>\n",
       "      <td>no</td>\n",
       "      <td>no</td>\n",
       "      <td>-6.0</td>\n",
       "      <td>yes</td>\n",
       "      <td>yes</td>\n",
       "      <td>no</td>\n",
       "      <td>5.0</td>\n",
       "      <td>3.0</td>\n",
       "      <td>3.0</td>\n",
       "      <td>3.0</td>\n",
       "      <td>4.0</td>\n",
       "      <td>30.0</td>\n",
       "    </tr>\n",
       "    <tr>\n",
       "      <td>2</td>\n",
       "      <td>GP</td>\n",
       "      <td>F</td>\n",
       "      <td>15</td>\n",
       "      <td>U</td>\n",
       "      <td>LE3</td>\n",
       "      <td>T</td>\n",
       "      <td>1.0</td>\n",
       "      <td>1.0</td>\n",
       "      <td>at_home</td>\n",
       "      <td>other</td>\n",
       "      <td>other</td>\n",
       "      <td>mother</td>\n",
       "      <td>1.0</td>\n",
       "      <td>2.0</td>\n",
       "      <td>3.0</td>\n",
       "      <td>yes</td>\n",
       "      <td>no</td>\n",
       "      <td>NaN</td>\n",
       "      <td>no</td>\n",
       "      <td>yes</td>\n",
       "      <td>-6.0</td>\n",
       "      <td>yes</td>\n",
       "      <td>yes</td>\n",
       "      <td>NaN</td>\n",
       "      <td>4.0</td>\n",
       "      <td>3.0</td>\n",
       "      <td>2.0</td>\n",
       "      <td>3.0</td>\n",
       "      <td>10.0</td>\n",
       "      <td>50.0</td>\n",
       "    </tr>\n",
       "  </tbody>\n",
       "</table>\n",
       "</div>"
      ],
      "text/plain": [
       "  school sex  age address famsize Pstatus  Medu  Fedu     Mjob     Fjob  \\\n",
       "0     GP   F   18       U     NaN       A   4.0   4.0  at_home  teacher   \n",
       "1     GP   F   17       U     GT3     NaN   1.0   1.0  at_home    other   \n",
       "2     GP   F   15       U     LE3       T   1.0   1.0  at_home    other   \n",
       "\n",
       "   reason guardian  traveltime  studytime  failures schoolsup famsup paid  \\\n",
       "0  course   mother         2.0        2.0       0.0       yes     no   no   \n",
       "1  course   father         1.0        2.0       0.0        no    yes   no   \n",
       "2   other   mother         1.0        2.0       3.0       yes     no  NaN   \n",
       "\n",
       "  activities nursery  studytime, granular higher internet romantic  famrel  \\\n",
       "0         no     yes                 -6.0    yes      NaN       no     4.0   \n",
       "1         no      no                 -6.0    yes      yes       no     5.0   \n",
       "2         no     yes                 -6.0    yes      yes      NaN     4.0   \n",
       "\n",
       "   freetime  goout  health  absences  score  \n",
       "0       3.0    4.0     3.0       6.0   30.0  \n",
       "1       3.0    3.0     3.0       4.0   30.0  \n",
       "2       3.0    2.0     3.0      10.0   50.0  "
      ]
     },
     "metadata": {},
     "output_type": "display_data"
    }
   ],
   "source": [
    "# Загрузим данные и посмотрим их\n",
    "\n",
    "df = pd.read_csv('stud_math.csv')\n",
    "display(df.info())\n",
    "display(df.head(3))"
   ]
  },
  {
   "cell_type": "code",
   "execution_count": 3,
   "metadata": {},
   "outputs": [
    {
     "data": {
      "text/plain": [
       "27"
      ]
     },
     "execution_count": 3,
     "metadata": {},
     "output_type": "execute_result"
    }
   ],
   "source": [
    "# Посмотрим сколько всего колонок с пропущенными данными есть в датасете\n",
    "df.isnull().any().sum()"
   ]
  },
  {
   "cell_type": "markdown",
   "metadata": {},
   "source": [
    "Итак, посмотрим все данные отдельно."
   ]
  },
  {
   "cell_type": "code",
   "execution_count": 4,
   "metadata": {},
   "outputs": [
    {
     "name": "stdout",
     "output_type": "stream",
     "text": [
      "['GP' 'MS']\n",
      "GP    0.883544\n",
      "MS    0.116456\n",
      "Name: school, dtype: float64\n",
      "0\n"
     ]
    }
   ],
   "source": [
    "# Аббревиатура школы, в которой учится ученик\n",
    "\n",
    "print(df['school'].unique())\n",
    "print(df['school'].value_counts(normalize=True))\n",
    "print(df['school'].isnull().sum())"
   ]
  },
  {
   "cell_type": "code",
   "execution_count": 5,
   "metadata": {},
   "outputs": [],
   "source": [
    "# 88% учеников в датасете представляют школу GP, оставшиеся - MS. Значений в столбце всего два, пропусков нет.\n",
    "# По данным все ок. Так как значений в столбце всего два, можно безболезненно перевести их в числовой вид\n",
    "\n",
    "school_dict = {'GP':1, 'MS':0}\n",
    "df['school'] = df['school'].map(school_dict)"
   ]
  },
  {
   "cell_type": "code",
   "execution_count": 6,
   "metadata": {},
   "outputs": [
    {
     "name": "stdout",
     "output_type": "stream",
     "text": [
      "['F' 'M']\n",
      "F    0.526582\n",
      "M    0.473418\n",
      "Name: sex, dtype: float64\n",
      "0\n"
     ]
    }
   ],
   "source": [
    "# Пол ученика\n",
    "\n",
    "print(df['sex'].unique())\n",
    "print(df['sex'].value_counts(normalize=True))\n",
    "print(df['sex'].isnull().sum())"
   ]
  },
  {
   "cell_type": "code",
   "execution_count": 7,
   "metadata": {},
   "outputs": [
    {
     "name": "stdout",
     "output_type": "stream",
     "text": [
      "<class 'numpy.int64'>\n"
     ]
    }
   ],
   "source": [
    "# Тут тоже все ок. Недостающих значений нет. мальчиков и девочек почти поровну.\n",
    "# Переведем значения в числовые\n",
    "\n",
    "sex_dict = {'M':1, 'F':0}\n",
    "df['sex'] = df['sex'].map(sex_dict)\n",
    "print(type(df['sex'][0]))"
   ]
  },
  {
   "cell_type": "code",
   "execution_count": 8,
   "metadata": {},
   "outputs": [
    {
     "name": "stdout",
     "output_type": "stream",
     "text": [
      "[18 17 15 16 19 22 20 21]\n",
      "16    0.263291\n",
      "17    0.248101\n",
      "18    0.207595\n",
      "15    0.207595\n",
      "19    0.060759\n",
      "20    0.007595\n",
      "22    0.002532\n",
      "21    0.002532\n",
      "Name: age, dtype: float64\n",
      "0\n"
     ]
    },
    {
     "data": {
      "image/png": "[encoded data removed]",
      "text/plain": [
       "<Figure size 432x288 with 1 Axes>"
      ]
     },
     "metadata": {
      "needs_background": "light"
     },
     "output_type": "display_data"
    }
   ],
   "source": [
    "# Возраст ученика\n",
    "\n",
    "print(df['age'].unique())\n",
    "print(df['age'].value_counts(normalize=True))\n",
    "df['age'].hist(bins=15)\n",
    "print(df['age'].isnull().sum())"
   ]
  },
  {
   "cell_type": "markdown",
   "metadata": {},
   "source": [
    "Как видно из данных, более 92% учеников относятся к возрасту 15-18. Возможно эти данные как-то коррелируют с \n",
    "распределением по школам."
   ]
  },
  {
   "cell_type": "code",
   "execution_count": 9,
   "metadata": {},
   "outputs": [
    {
     "name": "stdout",
     "output_type": "stream",
     "text": [
      "['U' nan 'R']\n",
      "U    0.780423\n",
      "R    0.219577\n",
      "Name: address, dtype: float64\n"
     ]
    },
    {
     "data": {
      "text/plain": [
       "17"
      ]
     },
     "execution_count": 9,
     "metadata": {},
     "output_type": "execute_result"
    }
   ],
   "source": [
    "# Тип адреса ученика ('U' - городской, 'R' - за городом)\n",
    "\n",
    "print(df['address'].unique())\n",
    "print(df['address'].value_counts(normalize=True))\n",
    "df['address'].isnull().sum()"
   ]
  },
  {
   "cell_type": "code",
   "execution_count": 10,
   "metadata": {},
   "outputs": [
    {
     "name": "stdout",
     "output_type": "stream",
     "text": [
      "<class 'numpy.float64'>\n"
     ]
    }
   ],
   "source": [
    "# Видим распределение примерно 80 / 20. Плюс здесь есть пропущенные значения.\n",
    "# Возможно, эти данные коррелируют с данными по возрастам и школам.\n",
    "# Переведем значения в числовые\n",
    "\n",
    "addres_dict = {'U':1, 'R':0}\n",
    "df['address'] = df['address'].map(addres_dict)\n",
    "print(type(df['address'][0]))"
   ]
  },
  {
   "cell_type": "code",
   "execution_count": 11,
   "metadata": {},
   "outputs": [
    {
     "name": "stdout",
     "output_type": "stream",
     "text": [
      "[nan 'GT3' 'LE3']\n",
      "GT3    0.709239\n",
      "LE3    0.290761\n",
      "Name: famsize, dtype: float64\n"
     ]
    },
    {
     "data": {
      "text/plain": [
       "27"
      ]
     },
     "execution_count": 11,
     "metadata": {},
     "output_type": "execute_result"
    }
   ],
   "source": [
    "#  Размер семьи('LE3' <= 3, 'GT3' >3)\n",
    "\n",
    "print(df['famsize'].unique())\n",
    "print(df['famsize'].value_counts(normalize=True))\n",
    "df['famsize'].isnull().sum()"
   ]
  },
  {
   "cell_type": "code",
   "execution_count": 12,
   "metadata": {},
   "outputs": [
    {
     "name": "stdout",
     "output_type": "stream",
     "text": [
      "<class 'numpy.float64'>\n"
     ]
    }
   ],
   "source": [
    "# Здесь снова только два значения, которы распределены в соотношении примерно 70/30, плюс есть 27 пропусков. \n",
    "# Переведем признак из номинального в числовой\n",
    "\n",
    "famsize_dict = {'GT3':1, 'LE3':0}\n",
    "df['famsize'] = df['famsize'].map(famsize_dict)\n",
    "print(type(df['famsize'][0]))"
   ]
  },
  {
   "cell_type": "code",
   "execution_count": 13,
   "metadata": {},
   "outputs": [
    {
     "name": "stdout",
     "output_type": "stream",
     "text": [
      "['A' nan 'T']\n",
      "T    0.897143\n",
      "A    0.102857\n",
      "Name: Pstatus, dtype: float64\n"
     ]
    },
    {
     "data": {
      "text/plain": [
       "45"
      ]
     },
     "execution_count": 13,
     "metadata": {},
     "output_type": "execute_result"
    }
   ],
   "source": [
    "# Статус совместного жилья родителей ('T' - живут вместе 'A' - раздельно)\n",
    "\n",
    "print(df['Pstatus'].unique())\n",
    "print(df['Pstatus'].value_counts(normalize=True))\n",
    "df['Pstatus'].isnull().sum()"
   ]
  },
  {
   "cell_type": "code",
   "execution_count": 14,
   "metadata": {},
   "outputs": [
    {
     "name": "stdout",
     "output_type": "stream",
     "text": [
      "<class 'numpy.float64'>\n"
     ]
    }
   ],
   "source": [
    "# Два значения признака, распередление 90 / 10. Одноко пропусков в данном столбце уже прям много - почти 1/6 от \n",
    "# датафрейма\n",
    "# Переведем признак из номинального в числовой\n",
    "\n",
    "Pstatus_dict = {'T':1, 'A':0}\n",
    "df['Pstatus'] = df['Pstatus'].map(Pstatus_dict)\n",
    "print(type(df['Pstatus'][0]))"
   ]
  },
  {
   "cell_type": "code",
   "execution_count": 15,
   "metadata": {
    "scrolled": true
   },
   "outputs": [
    {
     "data": {
      "text/plain": [
       "<matplotlib.axes._subplots.AxesSubplot at 0x1a1ab9a750>"
      ]
     },
     "metadata": {},
     "output_type": "display_data"
    },
    {
     "name": "stdout",
     "output_type": "stream",
     "text": [
      "[ 4.  1.  3.  2. nan  0.]\n",
      "4.0    0.334184\n",
      "2.0    0.260204\n",
      "3.0    0.247449\n",
      "1.0    0.150510\n",
      "0.0    0.007653\n",
      "Name: Medu, dtype: float64\n"
     ]
    },
    {
     "data": {
      "text/plain": [
       "3"
      ]
     },
     "execution_count": 15,
     "metadata": {},
     "output_type": "execute_result"
    },
    {
     "data": {
      "image/png": "[encoded data removed]",
      "text/plain": [
       "<Figure size 432x288 with 1 Axes>"
      ]
     },
     "metadata": {
      "needs_background": "light"
     },
     "output_type": "display_data"
    }
   ],
   "source": [
    "# Образование матери\n",
    "# 0 - нет, 1 - 4 класса, 2 - 5-9 классы, 3 - среднее специальное или 11 классов, 4 - высшее\n",
    "\n",
    "display(df['Medu'].hist(bins=15))\n",
    "print(df['Medu'].unique())\n",
    "print(df['Medu'].value_counts(normalize=True))\n",
    "df['Medu'].isnull().sum()"
   ]
  },
  {
   "cell_type": "markdown",
   "metadata": {},
   "source": [
    "С данными все ок, выбросов нет. Распределение нормальное"
   ]
  },
  {
   "cell_type": "code",
   "execution_count": 16,
   "metadata": {},
   "outputs": [
    {
     "data": {
      "text/plain": [
       "<matplotlib.axes._subplots.AxesSubplot at 0x1a1accf650>"
      ]
     },
     "metadata": {},
     "output_type": "display_data"
    },
    {
     "name": "stdout",
     "output_type": "stream",
     "text": [
      "[ 4.  1.  2.  3. 40. nan  0.]\n",
      "2.0     0.285714\n",
      "3.0     0.258760\n",
      "4.0     0.237197\n",
      "1.0     0.210243\n",
      "0.0     0.005391\n",
      "40.0    0.002695\n",
      "Name: Fedu, dtype: float64\n"
     ]
    },
    {
     "data": {
      "text/plain": [
       "24"
      ]
     },
     "execution_count": 16,
     "metadata": {},
     "output_type": "execute_result"
    },
    {
     "data": {
      "image/png": "[encoded data removed]",
      "text/plain": [
       "<Figure size 432x288 with 1 Axes>"
      ]
     },
     "metadata": {
      "needs_background": "light"
     },
     "output_type": "display_data"
    }
   ],
   "source": [
    "# Образование отца \n",
    "# (0 - нет, 1 - 4 класса, 2 - 5-9 классы, 3 - среднее специальное или 11 классов, 4 - высшее)\n",
    "\n",
    "display(df['Fedu'].hist(bins=15))\n",
    "print(df['Fedu'].unique())\n",
    "print(df['Fedu'].value_counts(normalize=True))\n",
    "df['Fedu'].isnull().sum()"
   ]
  },
  {
   "cell_type": "code",
   "execution_count": 17,
   "metadata": {},
   "outputs": [],
   "source": [
    "# И вот тут мы впервые встречаемся с выбросом! Скорее всего кто-то просто ошибся и приписал ноль, поэтому просто\n",
    "# пройдемся по столбцу и уберем ноль там, где он не нужен\n",
    "\n",
    "df['Fedu'] = df['Fedu'].apply(lambda x: x/10 if x >10 else x)"
   ]
  },
  {
   "cell_type": "code",
   "execution_count": 18,
   "metadata": {},
   "outputs": [
    {
     "data": {
      "text/plain": [
       "<matplotlib.axes._subplots.AxesSubplot at 0x1a1adfc750>"
      ]
     },
     "metadata": {},
     "output_type": "display_data"
    },
    {
     "name": "stdout",
     "output_type": "stream",
     "text": [
      "[ 4.  1.  2.  3. nan  0.]\n",
      "2.0    0.285714\n",
      "3.0    0.258760\n",
      "4.0    0.239892\n",
      "1.0    0.210243\n",
      "0.0    0.005391\n",
      "Name: Fedu, dtype: float64\n"
     ]
    },
    {
     "data": {
      "text/plain": [
       "24"
      ]
     },
     "execution_count": 18,
     "metadata": {},
     "output_type": "execute_result"
    },
    {
     "data": {
      "image/png": "[encoded data removed]",
      "text/plain": [
       "<Figure size 432x288 with 1 Axes>"
      ]
     },
     "metadata": {
      "needs_background": "light"
     },
     "output_type": "display_data"
    }
   ],
   "source": [
    "display(df['Fedu'].hist(bins=15))\n",
    "print(df['Fedu'].unique())\n",
    "print(df['Fedu'].value_counts(normalize=True))\n",
    "df['Fedu'].isnull().sum()"
   ]
  },
  {
   "cell_type": "markdown",
   "metadata": {},
   "source": [
    "Теперь стало ок!"
   ]
  },
  {
   "cell_type": "code",
   "execution_count": 19,
   "metadata": {},
   "outputs": [
    {
     "data": {
      "text/plain": [
       "<matplotlib.axes._subplots.AxesSubplot at 0x1a1aef94d0>"
      ]
     },
     "metadata": {},
     "output_type": "display_data"
    },
    {
     "name": "stdout",
     "output_type": "stream",
     "text": [
      "['at_home' 'health' 'other' 'services' 'teacher' nan]\n",
      "other       0.353723\n",
      "services    0.260638\n",
      "at_home     0.154255\n",
      "teacher     0.146277\n",
      "health      0.085106\n",
      "Name: Mjob, dtype: float64\n"
     ]
    },
    {
     "data": {
      "text/plain": [
       "19"
      ]
     },
     "execution_count": 19,
     "metadata": {},
     "output_type": "execute_result"
    },
    {
     "data": {
      "image/png": "[encoded data removed]",
      "text/plain": [
       "<Figure size 432x288 with 1 Axes>"
      ]
     },
     "metadata": {
      "needs_background": "light"
     },
     "output_type": "display_data"
    }
   ],
   "source": [
    "# Работа матери \n",
    "# 'teacher' - учитель, 'health' - сфера здравоохранения, 'services' - гос служба, 'at_home' - не работает, \n",
    "# 'other' - другое\n",
    "\n",
    "display(df['Mjob'].hist(bins=15))\n",
    "print(df['Mjob'].unique())\n",
    "print(df['Mjob'].value_counts(normalize=True))\n",
    "df['Mjob'].isnull().sum()"
   ]
  },
  {
   "cell_type": "markdown",
   "metadata": {},
   "source": [
    "Тут все ок. Все значения единообразны, есть некоторое количество пропусков."
   ]
  },
  {
   "cell_type": "code",
   "execution_count": 20,
   "metadata": {},
   "outputs": [
    {
     "data": {
      "text/plain": [
       "<matplotlib.axes._subplots.AxesSubplot at 0x1a1afdb490>"
      ]
     },
     "metadata": {},
     "output_type": "display_data"
    },
    {
     "name": "stdout",
     "output_type": "stream",
     "text": [
      "['teacher' 'other' nan 'health' 'services' 'at_home']\n",
      "other       0.548747\n",
      "services    0.284123\n",
      "teacher     0.080780\n",
      "at_home     0.044568\n",
      "health      0.041783\n",
      "Name: Fjob, dtype: float64\n"
     ]
    },
    {
     "data": {
      "text/plain": [
       "36"
      ]
     },
     "execution_count": 20,
     "metadata": {},
     "output_type": "execute_result"
    },
    {
     "data": {
      "image/png": "[encoded data removed]",
      "text/plain": [
       "<Figure size 432x288 with 1 Axes>"
      ]
     },
     "metadata": {
      "needs_background": "light"
     },
     "output_type": "display_data"
    }
   ],
   "source": [
    "# Работа отца 'teacher' - учитель, 'health' - сфера здравоохранения, 'services' - гос служба, 'at_home' - не работает, \n",
    "# 'other' - другое\n",
    "\n",
    "display(df['Fjob'].hist(bins=15))\n",
    "print(df['Fjob'].unique())\n",
    "print(df['Fjob'].value_counts(normalize=True))\n",
    "df['Fjob'].isnull().sum()"
   ]
  },
  {
   "cell_type": "markdown",
   "metadata": {},
   "source": [
    "Тоже все ок. Значения единообразны, есть несколько пропусков"
   ]
  },
  {
   "cell_type": "code",
   "execution_count": 21,
   "metadata": {},
   "outputs": [
    {
     "data": {
      "text/plain": [
       "<matplotlib.axes._subplots.AxesSubplot at 0x1a1b102550>"
      ]
     },
     "metadata": {},
     "output_type": "display_data"
    },
    {
     "name": "stdout",
     "output_type": "stream",
     "text": [
      "['course' 'other' 'home' 'reputation' nan]\n",
      "course        0.362434\n",
      "home          0.275132\n",
      "reputation    0.272487\n",
      "other         0.089947\n",
      "Name: reason, dtype: float64\n"
     ]
    },
    {
     "data": {
      "text/plain": [
       "17"
      ]
     },
     "execution_count": 21,
     "metadata": {},
     "output_type": "execute_result"
    },
    {
     "data": {
      "image/png": "[encoded data removed]",
      "text/plain": [
       "<Figure size 432x288 with 1 Axes>"
      ]
     },
     "metadata": {
      "needs_background": "light"
     },
     "output_type": "display_data"
    }
   ],
   "source": [
    "# Причина выбора школы ('home' - близость к дому, 'reputation' - репутация школы, \n",
    "# 'course' - образовательная программа, 'other' - другое)\n",
    "\n",
    "display(df['reason'].hist(bins=15))\n",
    "print(df['reason'].unique())\n",
    "print(df['reason'].value_counts(normalize=True))\n",
    "df['reason'].isnull().sum()"
   ]
  },
  {
   "cell_type": "code",
   "execution_count": 22,
   "metadata": {},
   "outputs": [
    {
     "data": {
      "text/plain": [
       "<matplotlib.axes._subplots.AxesSubplot at 0x1a1b208650>"
      ]
     },
     "metadata": {},
     "output_type": "display_data"
    },
    {
     "name": "stdout",
     "output_type": "stream",
     "text": [
      "['mother' 'father' 'other' nan]\n",
      "mother    0.686813\n",
      "father    0.236264\n",
      "other     0.076923\n",
      "Name: guardian, dtype: float64\n"
     ]
    },
    {
     "data": {
      "text/plain": [
       "31"
      ]
     },
     "execution_count": 22,
     "metadata": {},
     "output_type": "execute_result"
    },
    {
     "data": {
      "image/png": "[encoded data removed]",
      "text/plain": [
       "<Figure size 432x288 with 1 Axes>"
      ]
     },
     "metadata": {
      "needs_background": "light"
     },
     "output_type": "display_data"
    }
   ],
   "source": [
    "# Опекун ('mother' - мать, 'father' - отец, 'other' - другое)\n",
    "\n",
    "display(df['guardian'].hist(bins=15))\n",
    "print(df['guardian'].unique())\n",
    "print(df['guardian'].value_counts(normalize=True))\n",
    "df['guardian'].isnull().sum()"
   ]
  },
  {
   "cell_type": "code",
   "execution_count": 23,
   "metadata": {},
   "outputs": [
    {
     "data": {
      "text/plain": [
       "<matplotlib.axes._subplots.AxesSubplot at 0x1a1b2f9810>"
      ]
     },
     "metadata": {},
     "output_type": "display_data"
    },
    {
     "name": "stdout",
     "output_type": "stream",
     "text": [
      "[ 2.  1.  3. nan  4.]\n",
      "1.0    0.659401\n",
      "2.0    0.261580\n",
      "3.0    0.059946\n",
      "4.0    0.019074\n",
      "Name: traveltime, dtype: float64\n"
     ]
    },
    {
     "data": {
      "text/plain": [
       "28"
      ]
     },
     "execution_count": 23,
     "metadata": {},
     "output_type": "execute_result"
    },
    {
     "data": {
      "image/png": "[encoded data removed]",
      "text/plain": [
       "<Figure size 432x288 with 1 Axes>"
      ]
     },
     "metadata": {
      "needs_background": "light"
     },
     "output_type": "display_data"
    }
   ],
   "source": [
    "# Время в пути до школы (1 - <15 мин., 2 - 15-30 мин., 3 - 30-60 мин., 4 - >60 мин.)\n",
    "\n",
    "display(df['traveltime'].hist(bins=15))\n",
    "print(df['traveltime'].unique())\n",
    "print(df['traveltime'].value_counts(normalize=True))\n",
    "df['traveltime'].isnull().sum()"
   ]
  },
  {
   "cell_type": "markdown",
   "metadata": {},
   "source": [
    "Как видим, бОльшая часть учеников живут поблизости от школы"
   ]
  },
  {
   "cell_type": "code",
   "execution_count": 24,
   "metadata": {},
   "outputs": [
    {
     "data": {
      "text/plain": [
       "<matplotlib.axes._subplots.AxesSubplot at 0x1a1b1e2490>"
      ]
     },
     "metadata": {},
     "output_type": "display_data"
    },
    {
     "name": "stdout",
     "output_type": "stream",
     "text": [
      "[ 2.  3.  1. nan  4.]\n",
      "2.0    0.500000\n",
      "1.0    0.265464\n",
      "3.0    0.164948\n",
      "4.0    0.069588\n",
      "Name: studytime, dtype: float64\n"
     ]
    },
    {
     "data": {
      "text/plain": [
       "7"
      ]
     },
     "execution_count": 24,
     "metadata": {},
     "output_type": "execute_result"
    },
    {
     "data": {
      "image/png": "[encoded data removed]",
      "text/plain": [
       "<Figure size 432x288 with 1 Axes>"
      ]
     },
     "metadata": {
      "needs_background": "light"
     },
     "output_type": "display_data"
    }
   ],
   "source": [
    "# Время на учёбу помимо школы в неделю (1 - <2 часов, 2 - 2-5 часов, 3 - 5-10 часов, 4 - >10 часов)\n",
    "\n",
    "display(df['studytime'].hist(bins=15))\n",
    "print(df['studytime'].unique())\n",
    "print(df['studytime'].value_counts(normalize=True))\n",
    "df['studytime'].isnull().sum()"
   ]
  },
  {
   "cell_type": "markdown",
   "metadata": {},
   "source": [
    "Очень мало учатся эти щеглы! Но данные нормальные"
   ]
  },
  {
   "cell_type": "code",
   "execution_count": 25,
   "metadata": {},
   "outputs": [
    {
     "data": {
      "text/plain": [
       "<matplotlib.axes._subplots.AxesSubplot at 0x1a1af99fd0>"
      ]
     },
     "metadata": {},
     "output_type": "display_data"
    },
    {
     "name": "stdout",
     "output_type": "stream",
     "text": [
      "[ 0.  3. nan  2.  1.]\n",
      "0.0    0.785523\n",
      "1.0    0.131367\n",
      "2.0    0.042895\n",
      "3.0    0.040214\n",
      "Name: failures, dtype: float64\n"
     ]
    },
    {
     "data": {
      "text/plain": [
       "22"
      ]
     },
     "execution_count": 25,
     "metadata": {},
     "output_type": "execute_result"
    },
    {
     "data": {
      "image/png": "[encoded data removed]",
      "text/plain": [
       "<Figure size 432x288 with 1 Axes>"
      ]
     },
     "metadata": {
      "needs_background": "light"
     },
     "output_type": "display_data"
    }
   ],
   "source": [
    "# Количество внеучебных неудач (n, если 1<=n<3, иначе 0)\n",
    "\n",
    "display(df['failures'].hist(bins=15))\n",
    "print(df['failures'].unique())\n",
    "print(df['failures'].value_counts(normalize=True))\n",
    "df['failures'].isnull().sum()"
   ]
  },
  {
   "cell_type": "markdown",
   "metadata": {},
   "source": [
    "Понять бы еще, что означает внеучебные неудачи, но в целом с данными все ок"
   ]
  },
  {
   "cell_type": "code",
   "execution_count": 26,
   "metadata": {},
   "outputs": [
    {
     "name": "stdout",
     "output_type": "stream",
     "text": [
      "['yes' 'no' nan]\n",
      "no     0.867876\n",
      "yes    0.132124\n",
      "Name: schoolsup, dtype: float64\n"
     ]
    },
    {
     "data": {
      "text/plain": [
       "9"
      ]
     },
     "execution_count": 26,
     "metadata": {},
     "output_type": "execute_result"
    }
   ],
   "source": [
    "# Дополнительная образовательная поддержка (yes или no)\n",
    "\n",
    "print(df['schoolsup'].unique())\n",
    "print(df['schoolsup'].value_counts(normalize=True))\n",
    "df['schoolsup'].isnull().sum()"
   ]
  },
  {
   "cell_type": "code",
   "execution_count": 27,
   "metadata": {},
   "outputs": [
    {
     "name": "stdout",
     "output_type": "stream",
     "text": [
      "['no' 'yes' nan]\n",
      "yes    0.615169\n",
      "no     0.384831\n",
      "Name: famsup, dtype: float64\n"
     ]
    },
    {
     "data": {
      "text/plain": [
       "39"
      ]
     },
     "execution_count": 27,
     "metadata": {},
     "output_type": "execute_result"
    }
   ],
   "source": [
    "# Cемейная образовательная поддержка (yes или no)\n",
    "\n",
    "print(df['famsup'].unique())\n",
    "print(df['famsup'].value_counts(normalize=True))\n",
    "df['famsup'].isnull().sum()"
   ]
  },
  {
   "cell_type": "markdown",
   "metadata": {},
   "source": [
    "Так, тут многовато пропусков."
   ]
  },
  {
   "cell_type": "code",
   "execution_count": 28,
   "metadata": {},
   "outputs": [
    {
     "name": "stdout",
     "output_type": "stream",
     "text": [
      "['no' nan 'yes']\n",
      "no     0.56338\n",
      "yes    0.43662\n",
      "Name: paid, dtype: float64\n"
     ]
    },
    {
     "data": {
      "text/plain": [
       "40"
      ]
     },
     "execution_count": 28,
     "metadata": {},
     "output_type": "execute_result"
    }
   ],
   "source": [
    "# Дополнительные платные занятия по математике (yes или no)\n",
    "\n",
    "print(df['paid'].unique())\n",
    "print(df['paid'].value_counts(normalize=True))\n",
    "df['paid'].isnull().sum()"
   ]
  },
  {
   "cell_type": "markdown",
   "metadata": {},
   "source": [
    "Распределение почти 50/50. Правда много пропусков"
   ]
  },
  {
   "cell_type": "code",
   "execution_count": 29,
   "metadata": {},
   "outputs": [
    {
     "name": "stdout",
     "output_type": "stream",
     "text": [
      "['no' 'yes' nan]\n",
      "yes    0.511811\n",
      "no     0.488189\n",
      "Name: activities, dtype: float64\n"
     ]
    },
    {
     "data": {
      "text/plain": [
       "14"
      ]
     },
     "execution_count": 29,
     "metadata": {},
     "output_type": "execute_result"
    }
   ],
   "source": [
    "# Дополнительные внеучебные занятия (yes или no)\n",
    "\n",
    "print(df['activities'].unique())\n",
    "print(df['activities'].value_counts(normalize=True))\n",
    "df['activities'].isnull().sum()"
   ]
  },
  {
   "cell_type": "code",
   "execution_count": 30,
   "metadata": {},
   "outputs": [
    {
     "name": "stdout",
     "output_type": "stream",
     "text": [
      "['yes' 'no' nan]\n",
      "yes    0.791557\n",
      "no     0.208443\n",
      "Name: nursery, dtype: float64\n"
     ]
    },
    {
     "data": {
      "text/plain": [
       "16"
      ]
     },
     "execution_count": 30,
     "metadata": {},
     "output_type": "execute_result"
    }
   ],
   "source": [
    "# Посещал детский сад (yes или no)\n",
    "\n",
    "print(df['nursery'].unique())\n",
    "print(df['nursery'].value_counts(normalize=True))\n",
    "df['nursery'].isnull().sum()"
   ]
  },
  {
   "cell_type": "code",
   "execution_count": 31,
   "metadata": {},
   "outputs": [
    {
     "data": {
      "text/plain": [
       "<matplotlib.axes._subplots.AxesSubplot at 0x1a1addaf50>"
      ]
     },
     "metadata": {},
     "output_type": "display_data"
    },
    {
     "name": "stdout",
     "output_type": "stream",
     "text": [
      "[ -6.  -9.  -3.  nan -12.]\n",
      "-6.0     0.500000\n",
      "-3.0     0.265464\n",
      "-9.0     0.164948\n",
      "-12.0    0.069588\n",
      "Name: studytime, granular, dtype: float64\n"
     ]
    },
    {
     "data": {
      "text/plain": [
       "7"
      ]
     },
     "execution_count": 31,
     "metadata": {},
     "output_type": "execute_result"
    },
    {
     "data": {
      "image/png": "[encoded data removed]",
      "text/plain": [
       "<Figure size 432x288 with 1 Axes>"
      ]
     },
     "metadata": {
      "needs_background": "light"
     },
     "output_type": "display_data"
    }
   ],
   "source": [
    "# Обнаруживаем какой-то столбец неясного назначения\n",
    "\n",
    "display(df['studytime, granular'].hist(bins=15))\n",
    "print(df['studytime, granular'].unique())\n",
    "print(df['studytime, granular'].value_counts(normalize=True))\n",
    "df['studytime, granular'].isnull().sum()"
   ]
  },
  {
   "cell_type": "markdown",
   "metadata": {},
   "source": [
    "Что это за данные не понятно. Удалять столбец пока не буду, может быть по корреляции удастся понять, что это."
   ]
  },
  {
   "cell_type": "code",
   "execution_count": 32,
   "metadata": {},
   "outputs": [
    {
     "name": "stdout",
     "output_type": "stream",
     "text": [
      "['yes' nan 'no']\n",
      "yes    0.949333\n",
      "no     0.050667\n",
      "Name: higher, dtype: float64\n"
     ]
    },
    {
     "data": {
      "text/plain": [
       "20"
      ]
     },
     "execution_count": 32,
     "metadata": {},
     "output_type": "execute_result"
    }
   ],
   "source": [
    "# Хочет получить высшее образование (yes или no)\n",
    "\n",
    "print(df['higher'].unique())\n",
    "print(df['higher'].value_counts(normalize=True))\n",
    "df['higher'].isnull().sum()"
   ]
  },
  {
   "cell_type": "code",
   "execution_count": 33,
   "metadata": {},
   "outputs": [
    {
     "name": "stdout",
     "output_type": "stream",
     "text": [
      "[nan 'yes' 'no']\n",
      "yes    0.844875\n",
      "no     0.155125\n",
      "Name: internet, dtype: float64\n"
     ]
    },
    {
     "data": {
      "text/plain": [
       "34"
      ]
     },
     "execution_count": 33,
     "metadata": {},
     "output_type": "execute_result"
    }
   ],
   "source": [
    "# Наличие интернета дома (yes или no)\n",
    "\n",
    "print(df['internet'].unique())\n",
    "print(df['internet'].value_counts(normalize=True))\n",
    "df['internet'].isnull().sum()"
   ]
  },
  {
   "cell_type": "code",
   "execution_count": 34,
   "metadata": {},
   "outputs": [
    {
     "name": "stdout",
     "output_type": "stream",
     "text": [
      "['no' nan 'yes']\n",
      "no     0.659341\n",
      "yes    0.340659\n",
      "Name: romantic, dtype: float64\n"
     ]
    },
    {
     "data": {
      "text/plain": [
       "31"
      ]
     },
     "execution_count": 34,
     "metadata": {},
     "output_type": "execute_result"
    }
   ],
   "source": [
    "# B романтических отношениях (yes или no)\n",
    "\n",
    "print(df['romantic'].unique())\n",
    "print(df['romantic'].value_counts(normalize=True))\n",
    "df['romantic'].isnull().sum()"
   ]
  },
  {
   "cell_type": "code",
   "execution_count": 35,
   "metadata": {
    "scrolled": true
   },
   "outputs": [
    {
     "data": {
      "text/plain": [
       "<matplotlib.axes._subplots.AxesSubplot at 0x1a1ad04e50>"
      ]
     },
     "metadata": {},
     "output_type": "display_data"
    },
    {
     "name": "stdout",
     "output_type": "stream",
     "text": [
      "[ 4.  5.  3. nan -1.  2.  1.]\n",
      " 4.0    0.494565\n",
      " 5.0    0.269022\n",
      " 3.0    0.168478\n",
      " 2.0    0.046196\n",
      " 1.0    0.019022\n",
      "-1.0    0.002717\n",
      "Name: famrel, dtype: float64\n"
     ]
    },
    {
     "data": {
      "text/plain": [
       "27"
      ]
     },
     "execution_count": 35,
     "metadata": {},
     "output_type": "execute_result"
    },
    {
     "data": {
      "image/png": "[encoded data removed]",
      "text/plain": [
       "<Figure size 432x288 with 1 Axes>"
      ]
     },
     "metadata": {
      "needs_background": "light"
     },
     "output_type": "display_data"
    }
   ],
   "source": [
    "# Cемейные отношения (от 1 - очень плохо до 5 - очень хорошо)\n",
    "\n",
    "display(df['famrel'].hist(bins=15))\n",
    "print(df['famrel'].unique())\n",
    "print(df['famrel'].value_counts(normalize=True))\n",
    "df['famrel'].isnull().sum()"
   ]
  },
  {
   "cell_type": "code",
   "execution_count": 36,
   "metadata": {},
   "outputs": [],
   "source": [
    "# Как видим, здесь есть выбросы (отрицательные значения). Избавимся от них\n",
    "\n",
    "df['famrel'] = df['famrel'].apply(lambda x: x*(-1) if x < 0 else x)"
   ]
  },
  {
   "cell_type": "code",
   "execution_count": 37,
   "metadata": {},
   "outputs": [
    {
     "data": {
      "text/plain": [
       "<matplotlib.axes._subplots.AxesSubplot at 0x1a1acbb1d0>"
      ]
     },
     "metadata": {},
     "output_type": "display_data"
    },
    {
     "name": "stdout",
     "output_type": "stream",
     "text": [
      "[ 3.  2.  4.  1.  5. nan]\n",
      "3.0    0.398438\n",
      "4.0    0.291667\n",
      "2.0    0.164062\n",
      "5.0    0.098958\n",
      "1.0    0.046875\n",
      "Name: freetime, dtype: float64\n"
     ]
    },
    {
     "data": {
      "text/plain": [
       "11"
      ]
     },
     "execution_count": 37,
     "metadata": {},
     "output_type": "execute_result"
    },
    {
     "data": {
      "image/png": "[encoded data removed]",
      "text/plain": [
       "<Figure size 432x288 with 1 Axes>"
      ]
     },
     "metadata": {
      "needs_background": "light"
     },
     "output_type": "display_data"
    }
   ],
   "source": [
    "# Cвободное время после школы (от 1 - очень мало до 5 - очень мого)\n",
    "\n",
    "display(df['freetime'].hist(bins=15))\n",
    "print(df['freetime'].unique())\n",
    "print(df['freetime'].value_counts(normalize=True))\n",
    "df['freetime'].isnull().sum()"
   ]
  },
  {
   "cell_type": "code",
   "execution_count": 38,
   "metadata": {},
   "outputs": [
    {
     "data": {
      "text/plain": [
       "<matplotlib.axes._subplots.AxesSubplot at 0x1a1b1ef890>"
      ]
     },
     "metadata": {},
     "output_type": "display_data"
    },
    {
     "name": "stdout",
     "output_type": "stream",
     "text": [
      "[ 4.  3.  2.  1.  5. nan]\n",
      "3.0    0.328165\n",
      "2.0    0.260982\n",
      "4.0    0.217054\n",
      "5.0    0.134367\n",
      "1.0    0.059432\n",
      "Name: goout, dtype: float64\n"
     ]
    },
    {
     "data": {
      "text/plain": [
       "8"
      ]
     },
     "execution_count": 38,
     "metadata": {},
     "output_type": "execute_result"
    },
    {
     "data": {
      "image/png": "[encoded data removed]",
      "text/plain": [
       "<Figure size 432x288 with 1 Axes>"
      ]
     },
     "metadata": {
      "needs_background": "light"
     },
     "output_type": "display_data"
    }
   ],
   "source": [
    "# Проведение времени с друзьями (от 1 - очень мало до 5 - очень много)\n",
    "\n",
    "display(df['goout'].hist(bins=15))\n",
    "print(df['goout'].unique())\n",
    "print(df['goout'].value_counts(normalize=True))\n",
    "df['goout'].isnull().sum()"
   ]
  },
  {
   "cell_type": "code",
   "execution_count": 39,
   "metadata": {},
   "outputs": [
    {
     "data": {
      "text/plain": [
       "<matplotlib.axes._subplots.AxesSubplot at 0x1a1acd7b50>"
      ]
     },
     "metadata": {},
     "output_type": "display_data"
    },
    {
     "name": "stdout",
     "output_type": "stream",
     "text": [
      "[ 3.  5.  1.  2.  4. nan]\n",
      "5.0    0.363158\n",
      "3.0    0.234211\n",
      "4.0    0.165789\n",
      "1.0    0.123684\n",
      "2.0    0.113158\n",
      "Name: health, dtype: float64\n"
     ]
    },
    {
     "data": {
      "text/plain": [
       "15"
      ]
     },
     "execution_count": 39,
     "metadata": {},
     "output_type": "execute_result"
    },
    {
     "data": {
      "image/png": "[encoded data removed]",
      "text/plain": [
       "<Figure size 432x288 with 1 Axes>"
      ]
     },
     "metadata": {
      "needs_background": "light"
     },
     "output_type": "display_data"
    }
   ],
   "source": [
    "# Tекущее состояние здоровья (от 1 - очень плохо до 5 - очень хорошо)\n",
    "\n",
    "display(df['health'].hist(bins=15))\n",
    "print(df['health'].unique())\n",
    "print(df['health'].value_counts(normalize=True))\n",
    "df['health'].isnull().sum()"
   ]
  },
  {
   "cell_type": "code",
   "execution_count": 40,
   "metadata": {
    "scrolled": true
   },
   "outputs": [
    {
     "data": {
      "text/plain": [
       "<matplotlib.axes._subplots.AxesSubplot at 0x1a1b2539d0>"
      ]
     },
     "metadata": {},
     "output_type": "display_data"
    },
    {
     "name": "stdout",
     "output_type": "stream",
     "text": [
      "[  6.   4.  10.   2.   0.  16.  nan  14.   7.   8.  25.  12.  54.  18.\n",
      "  26.  20.  56.  24.  28.   5.  13.  15.  22.   3. 385.  21.   1.  75.\n",
      "  30.  19.   9.  11.  38.  40.  23.  17. 212.]\n",
      "0.0      111\n",
      "2.0       60\n",
      "4.0       53\n",
      "6.0       31\n",
      "8.0       21\n",
      "10.0      17\n",
      "12.0      12\n",
      "14.0      12\n",
      "3.0        8\n",
      "16.0       7\n",
      "7.0        6\n",
      "5.0        5\n",
      "18.0       5\n",
      "20.0       4\n",
      "22.0       3\n",
      "9.0        3\n",
      "1.0        3\n",
      "15.0       2\n",
      "13.0       2\n",
      "11.0       2\n",
      "25.0       1\n",
      "54.0       1\n",
      "385.0      1\n",
      "26.0       1\n",
      "56.0       1\n",
      "24.0       1\n",
      "212.0      1\n",
      "21.0       1\n",
      "75.0       1\n",
      "30.0       1\n",
      "19.0       1\n",
      "38.0       1\n",
      "40.0       1\n",
      "23.0       1\n",
      "17.0       1\n",
      "28.0       1\n",
      "Name: absences, dtype: int64\n"
     ]
    },
    {
     "data": {
      "text/plain": [
       "12"
      ]
     },
     "execution_count": 40,
     "metadata": {},
     "output_type": "execute_result"
    },
    {
     "data": {
      "image/png": "[encoded data removed]",
      "text/plain": [
       "<Figure size 432x288 with 1 Axes>"
      ]
     },
     "metadata": {
      "needs_background": "light"
     },
     "output_type": "display_data"
    }
   ],
   "source": [
    "# Количество пропущенных занятий\n",
    "\n",
    "display(df['absences'].hist(bins=15))\n",
    "print(df['absences'].unique())\n",
    "print(df['absences'].value_counts(normalize=False))\n",
    "df['absences'].isnull().sum()"
   ]
  },
  {
   "cell_type": "code",
   "execution_count": 41,
   "metadata": {},
   "outputs": [
    {
     "name": "stdout",
     "output_type": "stream",
     "text": [
      "25-й перцентиль: 0.0, 75-й перцентиль: 8.0, IQR: 8.0,  Границы выбросов: [-12.0, 20.0].\n"
     ]
    }
   ],
   "source": [
    "# Тут видим выбросы - значения, которые явно превышают остальные - 385 и 212. помимо этого есть еще значения 75, \n",
    "# 56, 54. Они вроде и похожи на правду, но все равно стоит проверить.\n",
    "\n",
    "median = df['absences'].median()\n",
    "IQR = df['absences'].quantile(0.75) - df['absences'].quantile(0.25)\n",
    "perc25 = df['absences'].quantile(0.25)\n",
    "perc75 = df['absences'].quantile(0.75)\n",
    "print('25-й перцентиль: {},'.format(perc25), '75-й перцентиль: {},'.format(perc75)\n",
    "      , \"IQR: {}, \".format(IQR),\"Границы выбросов: [{f}, {l}].\".format(f=perc25 - 1.5*IQR, l=perc75 + 1.5*IQR))\n",
    "\n"
   ]
  },
  {
   "cell_type": "code",
   "execution_count": 42,
   "metadata": {},
   "outputs": [],
   "source": [
    "# Мда.. верхняя граница выброса - 20. Понятно, что всегда найдутся прогульщики, которые могут пропустить и большее\n",
    "# количество занятий. Поэтому пока не будем удалять эти значения (до 75), а позже посмотрим на распределение\n",
    "# оценок у этих учеников. А пока удалим все, что больше сотни\n",
    "\n",
    "df['absences'] = df['absences'].apply(lambda x: x//10 if x>100 else x)"
   ]
  },
  {
   "cell_type": "code",
   "execution_count": 43,
   "metadata": {
    "scrolled": true
   },
   "outputs": [
    {
     "data": {
      "text/plain": [
       "<matplotlib.axes._subplots.AxesSubplot at 0x1a1a0e5210>"
      ]
     },
     "metadata": {},
     "output_type": "display_data"
    },
    {
     "name": "stdout",
     "output_type": "stream",
     "text": [
      "[ 30.  50.  75.  55.  95.  45.  60.  70.  80.  25.  40.  85.  90.  65.\n",
      " 100.  35.   0.  nan  20.]\n",
      "50.0     0.138817\n",
      "55.0     0.118252\n",
      "0.0      0.095116\n",
      "75.0     0.084833\n",
      "65.0     0.079692\n",
      "40.0     0.079692\n",
      "60.0     0.079692\n",
      "70.0     0.069409\n",
      "45.0     0.069409\n",
      "80.0     0.041131\n",
      "30.0     0.038560\n",
      "90.0     0.030848\n",
      "35.0     0.023136\n",
      "25.0     0.017995\n",
      "85.0     0.015424\n",
      "95.0     0.012853\n",
      "100.0    0.002571\n",
      "20.0     0.002571\n",
      "Name: score, dtype: float64\n"
     ]
    },
    {
     "data": {
      "text/plain": [
       "6"
      ]
     },
     "execution_count": 43,
     "metadata": {},
     "output_type": "execute_result"
    },
    {
     "data": {
      "image/png": "[encoded data removed]",
      "text/plain": [
       "<Figure size 432x288 with 1 Axes>"
      ]
     },
     "metadata": {
      "needs_background": "light"
     },
     "output_type": "display_data"
    }
   ],
   "source": [
    "# Баллы по госэкзамену по математике\n",
    "\n",
    "display(df['score'].hist(bins=15))\n",
    "print(df['score'].unique())\n",
    "print(df['score'].value_counts(normalize=True))\n",
    "df['score'].isnull().sum()"
   ]
  },
  {
   "cell_type": "markdown",
   "metadata": {},
   "source": [
    "Похоже, что с данными все норм."
   ]
  },
  {
   "cell_type": "code",
   "execution_count": 44,
   "metadata": {},
   "outputs": [],
   "source": [
    "# Заменим данные в столбцах, где ответы yes / no\n",
    "\n",
    "yesno_dict = {'yes':1, 'no':0}\n",
    "yesno_list = ['schoolsup','famsup','paid','activities','nursery','higher','internet','romantic']\n",
    "\n",
    "for col in yesno_list:\n",
    "    df[col] = df[col].map(yesno_dict)"
   ]
  },
  {
   "cell_type": "code",
   "execution_count": 45,
   "metadata": {},
   "outputs": [
    {
     "data": {
      "text/plain": [
       "<matplotlib.axes._subplots.AxesSubplot at 0x1069aab10>"
      ]
     },
     "execution_count": 45,
     "metadata": {},
     "output_type": "execute_result"
    },
    {
     "data": {
      "image/png": "[encoded data removed]",
      "text/plain": [
       "<Figure size 864x864 with 2 Axes>"
      ]
     },
     "metadata": {},
     "output_type": "display_data"
    }
   ],
   "source": [
    "# Теперь посмотрим на корреляцию числовых признаков\n",
    "\n",
    "sns.set(font_scale=1)\n",
    "plt.subplots(figsize=(12, 12))\n",
    "sns.heatmap(df.corr(), square=True,\n",
    "              annot=True, fmt=\".1f\", linewidths=0.1, cmap=\"RdBu\")"
   ]
  },
  {
   "cell_type": "code",
   "execution_count": 48,
   "metadata": {},
   "outputs": [],
   "source": [
    "# Как видим, столбец 'studytime, granular' коррелирует со столбцом 'studytime'. Такие данные нам не нужны\n",
    "df = df.drop('studytime, granular', axis=1)\n",
    "\n",
    "# Также видим, что столбцы Medu и Fedu коррелируют между собой. Считаю, что в данном случае можно один столбец\n",
    "# использовать для заполнения пропусков в другом, а потом удалить его.\n",
    "\n",
    "df['Medu'] = df['Medu'].fillna(df['Fedu'])\n",
    "df = df.drop('Fedu', axis=1)"
   ]
  },
  {
   "cell_type": "markdown",
   "metadata": {},
   "source": [
    "В остальных столбцах корреляции либо отсутствуют, либо незначительны, поэтому не будем их трогать."
   ]
  },
  {
   "cell_type": "code",
   "execution_count": null,
   "metadata": {},
   "outputs": [],
   "source": [
    "# Теперь посмотрим как столбцы с вещественными данными влияют на score. \n",
    "\n",
    "def get_boxplot(column):\n",
    "    fig, ax = plt.subplots(figsize = (14, 4))\n",
    "    sns.boxplot(x=column, y='score', data=df, ax=ax)\n",
    "    plt.xticks(rotation=45)\n",
    "    ax.set_title('Boxplot for ' + column)\n",
    "    plt.show()"
   ]
  },
  {
   "cell_type": "code",
   "execution_count": null,
   "metadata": {},
   "outputs": [],
   "source": [
    "# Фактически, столбцов, где вещественных признаков больше 2 у нас всего четыре. Их и исследуем\n",
    "\n",
    "for col in ['Mjob', 'Fjob', 'reason', 'guardian']:\n",
    "    get_boxplot(col)"
   ]
  },
  {
   "cell_type": "code",
   "execution_count": null,
   "metadata": {},
   "outputs": [],
   "source": [
    "# Визуально по графикам сложно определить, какой из параметров может оказывать рельное воздействие на финальную\n",
    "# оценку. Разве что папы, работающие учителями влияют на успеваемость учеников, но в остальном графиками не обойтись\n",
    "# Поэтому проведем тест Стьюдента\n",
    "\n",
    "def get_stat_dif(column):\n",
    "    cols = df.loc[:, column].value_counts().index[:]\n",
    "    combinations_all = list(combinations(cols, 2))\n",
    "    for comb in combinations_all:\n",
    "        if ttest_ind(df.loc[df.loc[:, column] == comb[0], 'score'], \n",
    "                        df.loc[df.loc[:, column] == comb[1], 'score']).pvalue \\\n",
    "            <= 0.05/len(combinations_all): # Учли поправку Бонферони\n",
    "            print('Найдены статистически значимые различия для колонки', column)\n",
    "            break"
   ]
  },
  {
   "cell_type": "code",
   "execution_count": null,
   "metadata": {},
   "outputs": [],
   "source": [
    "for col in ['Mjob', 'Fjob', 'reason', 'guardian']:\n",
    "    get_stat_dif(col)"
   ]
  },
  {
   "cell_type": "code",
   "execution_count": null,
   "metadata": {},
   "outputs": [],
   "source": [
    "# Так, видим, что наибольшее влияние на score оказывает работа мам. Значит колнки 'reason', 'guardian' можно удалить\n",
    "# Колонку 'Fjob' я бы все таки оставил\n",
    "df = df.drop(['reason', 'guardian'], axis=1)"
   ]
  },
  {
   "cell_type": "code",
   "execution_count": null,
   "metadata": {},
   "outputs": [],
   "source": [
    "df.info()"
   ]
  },
  {
   "cell_type": "markdown",
   "metadata": {},
   "source": [
    "# Выводы:"
   ]
  },
  {
   "cell_type": "markdown",
   "metadata": {},
   "source": [
    "Итак, у нас осталось 26 колонок из 30. Две из оставшихся несут в себе категориальные данные, поэтому в дальнейшем их необходимо будет преобразовать думмисами или OneHotEncoder. В целом, данные, на мой взгляд, очень даже качественные (за исключением, наверно, количества пропусков в некоторых колонках, но так как в задании нечего не было сказано про устранение пропусков и обогощение данных, то этот аспект я не принимал во внимание). Выбросы были минимальны, косяков в номинальных данных не было вообще, корреляции среди числовых признаков также минимальны. Данные в числовых признаках в основном имеют нормальное распределение, это нужно учитывать при дальнейшей подготовке данных к построению модели. В итоге удаления колонок по причине бесполезности также были минимальны. БОльшую часть признаков можно использовать для дальнейшего построения модели."
   ]
  },
  {
   "cell_type": "code",
   "execution_count": null,
   "metadata": {},
   "outputs": [],
   "source": []
  }
 ],
 "metadata": {
  "kernelspec": {
   "display_name": "Python 3",
   "language": "python",
   "name": "python3"
  },
  "language_info": {
   "codemirror_mode": {
    "name": "ipython",
    "version": 3
   },
   "file_extension": ".py",
   "mimetype": "text/x-python",
   "name": "python",
   "nbconvert_exporter": "python",
   "pygments_lexer": "ipython3",
   "version": "3.7.4"
  }
 },
 "nbformat": 4,
 "nbformat_minor": 2
}
